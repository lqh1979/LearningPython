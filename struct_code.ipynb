{
 "cells": [
  {
   "cell_type": "code",
   "id": "initial_id",
   "metadata": {
    "collapsed": true,
    "ExecuteTime": {
     "end_time": "2025-01-06T06:17:18.102130Z",
     "start_time": "2025-01-06T06:17:18.082803Z"
    }
   },
   "source": [
    "#list对象方法\n",
    "fruits = ['orange', 'apple', 'pear', 'banana', 'kiwi', 'apple', 'banana']\n",
    "fruits.count('apple')"
   ],
   "outputs": [
    {
     "data": {
      "text/plain": [
       "2"
      ]
     },
     "execution_count": 2,
     "metadata": {},
     "output_type": "execute_result"
    }
   ],
   "execution_count": 2
  },
  {
   "metadata": {
    "ExecuteTime": {
     "end_time": "2025-01-06T06:18:31.645230Z",
     "start_time": "2025-01-06T06:18:31.630029Z"
    }
   },
   "cell_type": "code",
   "source": "fruits.count('tangerine')",
   "id": "77da4dad9016fd65",
   "outputs": [
    {
     "data": {
      "text/plain": [
       "0"
      ]
     },
     "execution_count": 3,
     "metadata": {},
     "output_type": "execute_result"
    }
   ],
   "execution_count": 3
  },
  {
   "metadata": {
    "ExecuteTime": {
     "end_time": "2025-01-06T06:18:38.579730Z",
     "start_time": "2025-01-06T06:18:38.563091Z"
    }
   },
   "cell_type": "code",
   "source": "fruits.index('banana')",
   "id": "1557839854769fb8",
   "outputs": [
    {
     "data": {
      "text/plain": [
       "3"
      ]
     },
     "execution_count": 4,
     "metadata": {},
     "output_type": "execute_result"
    }
   ],
   "execution_count": 4
  },
  {
   "metadata": {
    "ExecuteTime": {
     "end_time": "2025-01-06T06:19:14.665325Z",
     "start_time": "2025-01-06T06:19:14.654199Z"
    }
   },
   "cell_type": "code",
   "source": "fruits.index('banana', 4)  # Find next banana starting at position 4",
   "id": "a9f2def9e35fd74e",
   "outputs": [
    {
     "data": {
      "text/plain": [
       "6"
      ]
     },
     "execution_count": 5,
     "metadata": {},
     "output_type": "execute_result"
    }
   ],
   "execution_count": 5
  },
  {
   "metadata": {
    "ExecuteTime": {
     "end_time": "2025-01-06T06:19:19.852412Z",
     "start_time": "2025-01-06T06:19:19.841941Z"
    }
   },
   "cell_type": "code",
   "source": [
    "fruits.reverse()\n",
    "fruits"
   ],
   "id": "4a27ed7e28691040",
   "outputs": [
    {
     "data": {
      "text/plain": [
       "['banana', 'apple', 'kiwi', 'banana', 'pear', 'apple', 'orange']"
      ]
     },
     "execution_count": 6,
     "metadata": {},
     "output_type": "execute_result"
    }
   ],
   "execution_count": 6
  },
  {
   "metadata": {
    "ExecuteTime": {
     "end_time": "2025-01-06T06:19:29.164679Z",
     "start_time": "2025-01-06T06:19:29.158675Z"
    }
   },
   "cell_type": "code",
   "source": [
    "fruits.append('grape')\n",
    "fruits"
   ],
   "id": "fd419df1cef6e4ae",
   "outputs": [
    {
     "data": {
      "text/plain": [
       "['banana', 'apple', 'kiwi', 'banana', 'pear', 'apple', 'orange', 'grape']"
      ]
     },
     "execution_count": 7,
     "metadata": {},
     "output_type": "execute_result"
    }
   ],
   "execution_count": 7
  },
  {
   "metadata": {
    "ExecuteTime": {
     "end_time": "2025-01-06T06:19:35.907197Z",
     "start_time": "2025-01-06T06:19:35.901192Z"
    }
   },
   "cell_type": "code",
   "source": [
    "fruits.sort()\n",
    "fruits"
   ],
   "id": "1622e3bea02f1201",
   "outputs": [
    {
     "data": {
      "text/plain": [
       "['apple', 'apple', 'banana', 'banana', 'grape', 'kiwi', 'orange', 'pear']"
      ]
     },
     "execution_count": 8,
     "metadata": {},
     "output_type": "execute_result"
    }
   ],
   "execution_count": 8
  },
  {
   "metadata": {
    "ExecuteTime": {
     "end_time": "2025-01-06T06:19:44.303016Z",
     "start_time": "2025-01-06T06:19:44.287498Z"
    }
   },
   "cell_type": "code",
   "source": [
    "fruits.pop()\n",
    "fruits"
   ],
   "id": "acb282121138e412",
   "outputs": [
    {
     "data": {
      "text/plain": [
       "['apple', 'apple', 'banana', 'banana', 'grape', 'kiwi', 'orange']"
      ]
     },
     "execution_count": 9,
     "metadata": {},
     "output_type": "execute_result"
    }
   ],
   "execution_count": 9
  },
  {
   "metadata": {
    "ExecuteTime": {
     "end_time": "2025-01-06T06:21:25.645258Z",
     "start_time": "2025-01-06T06:21:25.637806Z"
    }
   },
   "cell_type": "code",
   "source": [
    "stack = [3, 4, 5]\n",
    "stack.append(6)\n",
    "stack.append(7)\n",
    "stack"
   ],
   "id": "cf3c954c4f42174d",
   "outputs": [
    {
     "data": {
      "text/plain": [
       "[3, 4, 5, 6, 7]"
      ]
     },
     "execution_count": 10,
     "metadata": {},
     "output_type": "execute_result"
    }
   ],
   "execution_count": 10
  },
  {
   "metadata": {
    "ExecuteTime": {
     "end_time": "2025-01-06T06:21:45.147592Z",
     "start_time": "2025-01-06T06:21:45.133547Z"
    }
   },
   "cell_type": "code",
   "source": [
    "stack.pop()\n",
    "stack"
   ],
   "id": "3216d1d813bc5a86",
   "outputs": [
    {
     "data": {
      "text/plain": [
       "[3, 4, 5, 6]"
      ]
     },
     "execution_count": 11,
     "metadata": {},
     "output_type": "execute_result"
    }
   ],
   "execution_count": 11
  },
  {
   "metadata": {
    "ExecuteTime": {
     "end_time": "2025-01-06T06:21:47.784691Z",
     "start_time": "2025-01-06T06:21:47.769500Z"
    }
   },
   "cell_type": "code",
   "source": [
    "stack.pop()\n",
    "stack.pop()\n",
    "stack"
   ],
   "id": "2b2e0749944996de",
   "outputs": [
    {
     "data": {
      "text/plain": [
       "[3, 4]"
      ]
     },
     "execution_count": 12,
     "metadata": {},
     "output_type": "execute_result"
    }
   ],
   "execution_count": 12
  },
  {
   "metadata": {
    "ExecuteTime": {
     "end_time": "2025-01-06T06:23:37.383424Z",
     "start_time": "2025-01-06T06:23:37.375341Z"
    }
   },
   "cell_type": "code",
   "source": [
    "# 列表推导\n",
    "squares = list(map(lambda x: x ** 2, range(10)))\n",
    "squares"
   ],
   "id": "63a213b0b26bbe",
   "outputs": [
    {
     "data": {
      "text/plain": [
       "[0, 1, 4, 9, 16, 25, 36, 49, 64, 81]"
      ]
     },
     "execution_count": 13,
     "metadata": {},
     "output_type": "execute_result"
    }
   ],
   "execution_count": 13
  },
  {
   "metadata": {
    "ExecuteTime": {
     "end_time": "2025-01-06T06:26:10.132209Z",
     "start_time": "2025-01-06T06:26:10.117172Z"
    }
   },
   "cell_type": "code",
   "source": [
    "squares = [x ** 2 for x in range(10)]\n",
    "squares"
   ],
   "id": "a657d554466df94a",
   "outputs": [
    {
     "data": {
      "text/plain": [
       "[0, 1, 4, 9, 16, 25, 36, 49, 64, 81]"
      ]
     },
     "execution_count": 15,
     "metadata": {},
     "output_type": "execute_result"
    }
   ],
   "execution_count": 15
  },
  {
   "metadata": {
    "ExecuteTime": {
     "end_time": "2025-01-06T06:32:48.011114Z",
     "start_time": "2025-01-06T06:32:48.003798Z"
    }
   },
   "cell_type": "code",
   "source": "[(x, y) for x in [1, 2, 3] for y in [3, 1, 4] if x != y]",
   "id": "70efc417ec55b60b",
   "outputs": [
    {
     "data": {
      "text/plain": [
       "[(1, 3), (1, 4), (2, 3), (2, 1), (2, 4), (3, 1), (3, 4)]"
      ]
     },
     "execution_count": 22,
     "metadata": {},
     "output_type": "execute_result"
    }
   ],
   "execution_count": 22
  },
  {
   "metadata": {
    "ExecuteTime": {
     "end_time": "2025-01-06T06:46:35.385878Z",
     "start_time": "2025-01-06T06:46:35.369422Z"
    }
   },
   "cell_type": "code",
   "source": [
    "matrix = [\n",
    "    [1, 2, 3, 4],\n",
    "    [5, 6, 7, 8],\n",
    "    [9, 10, 11, 12],\n",
    "]\n",
    "# [[row[i] for row in matrix] for i in range(4)]\n",
    "\n",
    "new_matrix = []\n",
    "for i in range(4):\n",
    "    new_matrix.append([row[i] for row in matrix])\n",
    "print(new_matrix)"
   ],
   "id": "f91155847177d5a1",
   "outputs": [
    {
     "name": "stdout",
     "output_type": "stream",
     "text": [
      "[[1, 5, 9], [2, 6, 10], [3, 7, 11], [4, 8, 12]]\n"
     ]
    }
   ],
   "execution_count": 26
  },
  {
   "metadata": {
    "ExecuteTime": {
     "end_time": "2025-01-06T06:49:01.773031Z",
     "start_time": "2025-01-06T06:49:01.754049Z"
    }
   },
   "cell_type": "code",
   "source": [
    "# 元组\n",
    "t = 12345, 54321, 'hello!'\n",
    "t"
   ],
   "id": "594e2a9493723846",
   "outputs": [
    {
     "data": {
      "text/plain": [
       "(12345, 54321, 'hello!')"
      ]
     },
     "execution_count": 29,
     "metadata": {},
     "output_type": "execute_result"
    }
   ],
   "execution_count": 29
  },
  {
   "metadata": {
    "ExecuteTime": {
     "end_time": "2025-01-06T06:50:05.972917Z",
     "start_time": "2025-01-06T06:50:05.958803Z"
    }
   },
   "cell_type": "code",
   "source": [
    "u = t, (1, 2, 3)  #\n",
    "u"
   ],
   "id": "27efad27cab9d176",
   "outputs": [
    {
     "data": {
      "text/plain": [
       "((12345, 54321, 'hello!'), (1, 2, 3))"
      ]
     },
     "execution_count": 31,
     "metadata": {},
     "output_type": "execute_result"
    }
   ],
   "execution_count": 31
  },
  {
   "metadata": {
    "ExecuteTime": {
     "end_time": "2025-01-06T06:53:12.000939Z",
     "start_time": "2025-01-06T06:53:11.987540Z"
    }
   },
   "cell_type": "code",
   "source": [
    "v = ([1, 2, 3], [3, 2, 1])\n",
    "v[0] = 100  #元组的元素是不可变的"
   ],
   "id": "c2ec849302abf60d",
   "outputs": [
    {
     "ename": "TypeError",
     "evalue": "'tuple' object does not support item assignment",
     "output_type": "error",
     "traceback": [
      "\u001B[1;31m---------------------------------------------------------------------------\u001B[0m",
      "\u001B[1;31mTypeError\u001B[0m                                 Traceback (most recent call last)",
      "Cell \u001B[1;32mIn[35], line 2\u001B[0m\n\u001B[0;32m      1\u001B[0m v \u001B[38;5;241m=\u001B[39m ([\u001B[38;5;241m1\u001B[39m, \u001B[38;5;241m2\u001B[39m, \u001B[38;5;241m3\u001B[39m], [\u001B[38;5;241m3\u001B[39m, \u001B[38;5;241m2\u001B[39m, \u001B[38;5;241m1\u001B[39m])\n\u001B[1;32m----> 2\u001B[0m \u001B[43mv\u001B[49m\u001B[43m[\u001B[49m\u001B[38;5;241;43m0\u001B[39;49m\u001B[43m]\u001B[49m\u001B[38;5;241m=\u001B[39m\u001B[38;5;241m100\u001B[39m \u001B[38;5;66;03m#元组是不可变的\u001B[39;00m\n",
      "\u001B[1;31mTypeError\u001B[0m: 'tuple' object does not support item assignment"
     ]
    }
   ],
   "execution_count": 35
  },
  {
   "metadata": {
    "ExecuteTime": {
     "end_time": "2025-01-06T06:54:23.679097Z",
     "start_time": "2025-01-06T06:54:23.665130Z"
    }
   },
   "cell_type": "code",
   "source": [
    "# 但是元组内包含的可变的元素可以修改\n",
    "v[0][0] = 100\n",
    "v"
   ],
   "id": "ece7efecb78e6639",
   "outputs": [
    {
     "data": {
      "text/plain": [
       "([100, 2, 3], [3, 2, 1])"
      ]
     },
     "execution_count": 36,
     "metadata": {},
     "output_type": "execute_result"
    }
   ],
   "execution_count": 36
  },
  {
   "metadata": {
    "ExecuteTime": {
     "end_time": "2025-01-06T06:57:42.305996Z",
     "start_time": "2025-01-06T06:57:42.291891Z"
    }
   },
   "cell_type": "code",
   "source": [
    "empty = ()  # 空元组\n",
    "singleton = 'hello',  # 一个元素的元组，需要逗号\n",
    "\n",
    "singleton"
   ],
   "id": "b50f589c8edebb35",
   "outputs": [
    {
     "data": {
      "text/plain": [
       "('hello',)"
      ]
     },
     "execution_count": 37,
     "metadata": {},
     "output_type": "execute_result"
    }
   ],
   "execution_count": 37
  },
  {
   "metadata": {
    "ExecuteTime": {
     "end_time": "2025-01-06T06:59:30.785533Z",
     "start_time": "2025-01-06T06:59:30.780367Z"
    }
   },
   "cell_type": "code",
   "source": [
    "# 元组拆包\n",
    "v = ([1, 2, 3], [3, 2, 1])\n",
    "v1, v2 = v\n",
    "v1"
   ],
   "id": "d84a46f41e5c0a4c",
   "outputs": [
    {
     "data": {
      "text/plain": [
       "[1, 2, 3]"
      ]
     },
     "execution_count": 42,
     "metadata": {},
     "output_type": "execute_result"
    }
   ],
   "execution_count": 42
  },
  {
   "metadata": {
    "ExecuteTime": {
     "end_time": "2025-01-06T07:00:32.977910Z",
     "start_time": "2025-01-06T07:00:32.960078Z"
    }
   },
   "cell_type": "code",
   "source": [
    "a, *b = v1\n",
    "b"
   ],
   "id": "6ed2d8034ef48a5b",
   "outputs": [
    {
     "data": {
      "text/plain": [
       "[2, 3]"
      ]
     },
     "execution_count": 46,
     "metadata": {},
     "output_type": "execute_result"
    }
   ],
   "execution_count": 46
  },
  {
   "metadata": {
    "ExecuteTime": {
     "end_time": "2025-01-06T07:02:14.836888Z",
     "start_time": "2025-01-06T07:02:14.819626Z"
    }
   },
   "cell_type": "code",
   "source": [
    "# 集合set\n",
    "basket = {'apple', 'orange', 'apple', 'pear', 'orange', 'banana'}\n",
    "basket"
   ],
   "id": "d2c990345ec0c617",
   "outputs": [
    {
     "data": {
      "text/plain": [
       "{'apple', 'banana', 'orange', 'pear'}"
      ]
     },
     "execution_count": 48,
     "metadata": {},
     "output_type": "execute_result"
    }
   ],
   "execution_count": 48
  },
  {
   "metadata": {
    "ExecuteTime": {
     "end_time": "2025-01-06T07:02:26.295849Z",
     "start_time": "2025-01-06T07:02:26.287556Z"
    }
   },
   "cell_type": "code",
   "source": "'orange' in basket\n",
   "id": "d6bd248f3e41631",
   "outputs": [
    {
     "data": {
      "text/plain": [
       "True"
      ]
     },
     "execution_count": 49,
     "metadata": {},
     "output_type": "execute_result"
    }
   ],
   "execution_count": 49
  },
  {
   "metadata": {
    "ExecuteTime": {
     "end_time": "2025-01-06T07:03:31.981217Z",
     "start_time": "2025-01-06T07:03:31.965Z"
    }
   },
   "cell_type": "code",
   "source": [
    "# 集合的运算\n",
    "a = set('abracadabra')\n",
    "b = set('alacazam')\n",
    "a - b  # a与b的差集"
   ],
   "id": "1396050853a515a2",
   "outputs": [
    {
     "data": {
      "text/plain": [
       "{'b', 'd', 'r'}"
      ]
     },
     "execution_count": 50,
     "metadata": {},
     "output_type": "execute_result"
    }
   ],
   "execution_count": 50
  },
  {
   "metadata": {
    "ExecuteTime": {
     "end_time": "2025-01-06T07:03:47.224727Z",
     "start_time": "2025-01-06T07:03:47.209769Z"
    }
   },
   "cell_type": "code",
   "source": "a | b  # a与b的并集",
   "id": "4dba57469502f032",
   "outputs": [
    {
     "data": {
      "text/plain": [
       "{'a', 'b', 'c', 'd', 'l', 'm', 'r', 'z'}"
      ]
     },
     "execution_count": 51,
     "metadata": {},
     "output_type": "execute_result"
    }
   ],
   "execution_count": 51
  },
  {
   "metadata": {
    "ExecuteTime": {
     "end_time": "2025-01-06T07:04:16.114913Z",
     "start_time": "2025-01-06T07:04:16.106123Z"
    }
   },
   "cell_type": "code",
   "source": "a & b  # a与b的交集",
   "id": "ba0c15ca2ed9a43f",
   "outputs": [
    {
     "data": {
      "text/plain": [
       "{'a', 'c'}"
      ]
     },
     "execution_count": 52,
     "metadata": {},
     "output_type": "execute_result"
    }
   ],
   "execution_count": 52
  },
  {
   "metadata": {
    "ExecuteTime": {
     "end_time": "2025-01-06T07:04:32.921252Z",
     "start_time": "2025-01-06T07:04:32.913403Z"
    }
   },
   "cell_type": "code",
   "source": "a ^ b  # a与b的异或集",
   "id": "4b38458cc281e099",
   "outputs": [
    {
     "data": {
      "text/plain": [
       "{'b', 'd', 'l', 'm', 'r', 'z'}"
      ]
     },
     "execution_count": 53,
     "metadata": {},
     "output_type": "execute_result"
    }
   ],
   "execution_count": 53
  },
  {
   "metadata": {
    "ExecuteTime": {
     "end_time": "2025-01-06T07:05:18.394113Z",
     "start_time": "2025-01-06T07:05:18.389603Z"
    }
   },
   "cell_type": "code",
   "source": [
    "# 集合推导\n",
    "a = {x for x in 'abracadabra' if x not in 'abc'}\n",
    "a"
   ],
   "id": "edeac38361c37ab",
   "outputs": [
    {
     "data": {
      "text/plain": [
       "{'d', 'r'}"
      ]
     },
     "execution_count": 54,
     "metadata": {},
     "output_type": "execute_result"
    }
   ],
   "execution_count": 54
  },
  {
   "metadata": {
    "ExecuteTime": {
     "end_time": "2025-01-06T07:06:24.878938Z",
     "start_time": "2025-01-06T07:06:24.874241Z"
    }
   },
   "cell_type": "code",
   "source": [
    "#字典\n",
    "tel = {'jack': 4098, 'sape': 4139}\n",
    "tel['guido'] = 4127  # 添加键值对\n",
    "tel"
   ],
   "id": "dedd6fe09deeb2cd",
   "outputs": [
    {
     "data": {
      "text/plain": [
       "{'jack': 4098, 'sape': 4139, 'guido': 4127}"
      ]
     },
     "execution_count": 55,
     "metadata": {},
     "output_type": "execute_result"
    }
   ],
   "execution_count": 55
  },
  {
   "metadata": {
    "ExecuteTime": {
     "end_time": "2025-01-06T07:07:42.153162Z",
     "start_time": "2025-01-06T07:07:42.147454Z"
    }
   },
   "cell_type": "code",
   "source": [
    "# del tel['sape']\n",
    "tel['irv'] = 4127\n",
    "tel"
   ],
   "id": "25733bafa0feb34f",
   "outputs": [
    {
     "data": {
      "text/plain": [
       "{'jack': 4098, 'guido': 4127, 'irv': 4127}"
      ]
     },
     "execution_count": 63,
     "metadata": {},
     "output_type": "execute_result"
    }
   ],
   "execution_count": 63
  },
  {
   "metadata": {
    "ExecuteTime": {
     "end_time": "2025-01-06T07:07:49.633287Z",
     "start_time": "2025-01-06T07:07:49.614589Z"
    }
   },
   "cell_type": "code",
   "source": "list(tel)",
   "id": "7d113b05a4e8252d",
   "outputs": [
    {
     "data": {
      "text/plain": [
       "['jack', 'guido', 'irv']"
      ]
     },
     "execution_count": 64,
     "metadata": {},
     "output_type": "execute_result"
    }
   ],
   "execution_count": 64
  },
  {
   "metadata": {
    "ExecuteTime": {
     "end_time": "2025-01-06T07:08:04.157629Z",
     "start_time": "2025-01-06T07:08:04.149537Z"
    }
   },
   "cell_type": "code",
   "source": "sorted(tel)",
   "id": "4594701c358e32cc",
   "outputs": [
    {
     "data": {
      "text/plain": [
       "['guido', 'irv', 'jack']"
      ]
     },
     "execution_count": 65,
     "metadata": {},
     "output_type": "execute_result"
    }
   ],
   "execution_count": 65
  },
  {
   "metadata": {
    "ExecuteTime": {
     "end_time": "2025-01-06T07:08:38.527362Z",
     "start_time": "2025-01-06T07:08:38.511060Z"
    }
   },
   "cell_type": "code",
   "source": "'irv' in tel",
   "id": "c870f8013ff925df",
   "outputs": [
    {
     "data": {
      "text/plain": [
       "True"
      ]
     },
     "execution_count": 66,
     "metadata": {},
     "output_type": "execute_result"
    }
   ],
   "execution_count": 66
  },
  {
   "metadata": {
    "ExecuteTime": {
     "end_time": "2025-01-06T07:10:19.282111Z",
     "start_time": "2025-01-06T07:10:19.264580Z"
    }
   },
   "cell_type": "code",
   "source": [
    "# dict 构造\n",
    "d = dict(one=1, two=2, three=3)  # 通过关键字参数\n",
    "d"
   ],
   "id": "da18d5c127ff60c5",
   "outputs": [
    {
     "data": {
      "text/plain": [
       "{'one': 1, 'two': 2, 'three': 3}"
      ]
     },
     "execution_count": 69,
     "metadata": {},
     "output_type": "execute_result"
    }
   ],
   "execution_count": 69
  },
  {
   "metadata": {
    "ExecuteTime": {
     "end_time": "2025-01-06T07:10:15.779240Z",
     "start_time": "2025-01-06T07:10:15.760372Z"
    }
   },
   "cell_type": "code",
   "source": [
    "d = dict([('two', 2), ('one', 1), ('three', 3)])  # 通过列表\n",
    "d "
   ],
   "id": "57173b78cf425f64",
   "outputs": [
    {
     "data": {
      "text/plain": [
       "{'two': 2, 'one': 1, 'three': 3}"
      ]
     },
     "execution_count": 68,
     "metadata": {},
     "output_type": "execute_result"
    }
   ],
   "execution_count": 68
  },
  {
   "metadata": {
    "ExecuteTime": {
     "end_time": "2025-01-06T07:10:55.994545Z",
     "start_time": "2025-01-06T07:10:55.987705Z"
    }
   },
   "cell_type": "code",
   "source": [
    "d= dict(zip(['one', 'two', 'three'], [1, 2, 3])) # 通过zip函数\n",
    "d"
   ],
   "id": "b46df016ff5e0852",
   "outputs": [
    {
     "data": {
      "text/plain": [
       "{'one': 1, 'two': 2, 'three': 3}"
      ]
     },
     "execution_count": 71,
     "metadata": {},
     "output_type": "execute_result"
    }
   ],
   "execution_count": 71
  },
  {
   "metadata": {},
   "cell_type": "code",
   "outputs": [],
   "execution_count": null,
   "source": "{d:d**2 for d in range(10)} # 通过推导式",
   "id": "78a94ca4220fbd65"
  },
  {
   "metadata": {
    "ExecuteTime": {
     "end_time": "2025-01-06T07:15:53.815628Z",
     "start_time": "2025-01-06T07:15:53.801971Z"
    }
   },
   "cell_type": "code",
   "source": [
    "# 字典循环\n",
    "knights = {'gallahad': 'the pure', 'robin': 'the brave'}\n",
    "for k, v in knights.items():\n",
    "    print(k, v)"
   ],
   "id": "9b45bd21605b956c",
   "outputs": [
    {
     "name": "stdout",
     "output_type": "stream",
     "text": [
      "gallahad the pure\n",
      "robin the brave\n"
     ]
    }
   ],
   "execution_count": 73
  },
  {
   "metadata": {
    "ExecuteTime": {
     "end_time": "2025-01-06T07:17:38.956382Z",
     "start_time": "2025-01-06T07:17:38.942688Z"
    }
   },
   "cell_type": "code",
   "source": [
    "for i, v in enumerate(knights): # 索引和值\n",
    "    print(i, v)"
   ],
   "id": "9c1b7bcfcd7d99c1",
   "outputs": [
    {
     "name": "stdout",
     "output_type": "stream",
     "text": [
      "0 gallahad\n",
      "1 robin\n"
     ]
    }
   ],
   "execution_count": 75
  },
  {
   "metadata": {
    "ExecuteTime": {
     "end_time": "2025-01-06T07:20:55.369209Z",
     "start_time": "2025-01-06T07:20:55.360239Z"
    }
   },
   "cell_type": "code",
   "source": [
    "#\n",
    "questions = ['name', 'quest', 'favorite color']\n",
    "answers = ['lancelot', 'the holy grail', 'blue']\n",
    "for q, a in zip(questions, answers): # 同时迭代两个序列\n",
    "    print(f\"What is your {q}?  It is {a}\")"
   ],
   "id": "cc451c7f252d818d",
   "outputs": [
    {
     "name": "stdout",
     "output_type": "stream",
     "text": [
      "What is your name?  It is lancelot\n",
      "What is your quest?  It is the holy grail\n",
      "What is your favorite color?  It is blue\n"
     ]
    }
   ],
   "execution_count": 77
  },
  {
   "metadata": {
    "ExecuteTime": {
     "end_time": "2025-01-06T07:21:53.046146Z",
     "start_time": "2025-01-06T07:21:53.029890Z"
    }
   },
   "cell_type": "code",
   "source": [
    "# 反向循环\n",
    "for i in reversed(range(1, 10, 2)):\n",
    "    print(i)"
   ],
   "id": "525ce79089215762",
   "outputs": [
    {
     "name": "stdout",
     "output_type": "stream",
     "text": [
      "9\n",
      "7\n",
      "5\n",
      "3\n",
      "1\n"
     ]
    }
   ],
   "execution_count": 78
  },
  {
   "metadata": {
    "ExecuteTime": {
     "end_time": "2025-01-06T07:22:54.619708Z",
     "start_time": "2025-01-06T07:22:54.600118Z"
    }
   },
   "cell_type": "code",
   "source": [
    "# 排序循环\n",
    "basket = ['apple', 'orange', 'apple', 'pear', 'orange', 'banana']\n",
    "for i in sorted(basket):\n",
    "    print(i)"
   ],
   "id": "3ab3695518323b6",
   "outputs": [
    {
     "name": "stdout",
     "output_type": "stream",
     "text": [
      "apple\n",
      "apple\n",
      "banana\n",
      "orange\n",
      "orange\n",
      "pear\n"
     ]
    }
   ],
   "execution_count": 79
  },
  {
   "metadata": {
    "ExecuteTime": {
     "end_time": "2025-01-06T07:23:36.608998Z",
     "start_time": "2025-01-06T07:23:36.594993Z"
    }
   },
   "cell_type": "code",
   "source": "basket # unchanged\n",
   "id": "939e492c7e319e25",
   "outputs": [
    {
     "data": {
      "text/plain": [
       "['apple', 'orange', 'apple', 'pear', 'orange', 'banana']"
      ]
     },
     "execution_count": 82,
     "metadata": {},
     "output_type": "execute_result"
    }
   ],
   "execution_count": 82
  },
  {
   "metadata": {
    "ExecuteTime": {
     "end_time": "2025-01-06T07:24:16.595905Z",
     "start_time": "2025-01-06T07:24:16.578953Z"
    }
   },
   "cell_type": "code",
   "source": [
    "# 去重+排序\n",
    "basket = ['apple', 'orange', 'apple', 'pear', 'orange', 'banana']\n",
    "for f in sorted(set(basket)):\n",
    "    print(f)"
   ],
   "id": "9ec3444e351f2993",
   "outputs": [
    {
     "name": "stdout",
     "output_type": "stream",
     "text": [
      "apple\n",
      "banana\n",
      "orange\n",
      "pear\n"
     ]
    }
   ],
   "execution_count": 83
  },
  {
   "metadata": {
    "ExecuteTime": {
     "end_time": "2025-01-06T07:24:49.607965Z",
     "start_time": "2025-01-06T07:24:49.603966Z"
    }
   },
   "cell_type": "code",
   "source": "basket # unchanged",
   "id": "957d15dcd8eb3f11",
   "outputs": [
    {
     "data": {
      "text/plain": [
       "['apple', 'orange', 'apple', 'pear', 'orange', 'banana']"
      ]
     },
     "execution_count": 84,
     "metadata": {},
     "output_type": "execute_result"
    }
   ],
   "execution_count": 84
  },
  {
   "metadata": {
    "ExecuteTime": {
     "end_time": "2025-01-06T07:32:44.414235Z",
     "start_time": "2025-01-06T07:32:44.406868Z"
    }
   },
   "cell_type": "code",
   "source": [
    "# 比较结果或其他布尔表达式赋给变量\n",
    "string1, string2, string3 = '', 'Trondheim', 'Hammer Dance'\n",
    "non_null = string1 or string2 or string3  #\n",
    "non_null\n"
   ],
   "id": "a6711fa5d98ed35a",
   "outputs": [
    {
     "data": {
      "text/plain": [
       "'Trondheim'"
      ]
     },
     "execution_count": 85,
     "metadata": {},
     "output_type": "execute_result"
    }
   ],
   "execution_count": 85
  }
 ],
 "metadata": {
  "kernelspec": {
   "display_name": "Python 3",
   "language": "python",
   "name": "python3"
  },
  "language_info": {
   "codemirror_mode": {
    "name": "ipython",
    "version": 2
   },
   "file_extension": ".py",
   "mimetype": "text/x-python",
   "name": "python",
   "nbconvert_exporter": "python",
   "pygments_lexer": "ipython2",
   "version": "2.7.6"
  }
 },
 "nbformat": 4,
 "nbformat_minor": 5
}

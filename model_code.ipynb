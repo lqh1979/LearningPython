{
 "cells": [
  {
   "metadata": {},
   "cell_type": "raw",
   "source": [
    "import 模块搜索顺序\n",
    "1、首先导入内建模块\n",
    "   首先判断这个module是不是built-in即内建模块，如果是内建模块则引入内建模块，如果不是则在一个称为sys.path的list中寻找\n",
    "2、在sys.path返回的列表中寻找，顺序如下：\n",
    "   1)程序的根目录（即当前运行python文件的目录）\n",
    "   2）PYTHONPATH环境变量设置的目录\n",
    "   3）标准库的目录\n",
    "   4）任何能够找到的.pth文件的内容  \n",
    "   5）第三方扩展的site-package目录\n",
    "   "
   ],
   "id": "c75c7d98c3b57175"
  },
  {
   "metadata": {
    "ExecuteTime": {
     "end_time": "2025-01-07T01:43:40.666426Z",
     "start_time": "2025-01-07T01:43:40.650765Z"
    }
   },
   "cell_type": "code",
   "source": [
    "#sys.path 顺序\n",
    "import sys\n",
    "\n",
    "# sys.builtin_module_names\n",
    "sys.path\n"
   ],
   "id": "371de5afd5589e57",
   "outputs": [
    {
     "data": {
      "text/plain": [
       "['C:\\\\Program Files\\\\JetBrains\\\\PyCharm 2024.1.5\\\\plugins\\\\python\\\\helpers-pro\\\\jupyter_debug',\n",
       " 'C:\\\\Program Files\\\\JetBrains\\\\PyCharm 2024.1.5\\\\plugins\\\\python\\\\helpers\\\\pydev',\n",
       " 'C:\\\\Users\\\\55575\\\\PycharmProjects\\\\LearningPython',\n",
       " 'C:\\\\Users\\\\55575\\\\miniconda3\\\\envs\\\\local_conda_py10\\\\python310.zip',\n",
       " 'C:\\\\Users\\\\55575\\\\miniconda3\\\\envs\\\\local_conda_py10\\\\DLLs',\n",
       " 'C:\\\\Users\\\\55575\\\\miniconda3\\\\envs\\\\local_conda_py10\\\\lib',\n",
       " 'C:\\\\Users\\\\55575\\\\miniconda3\\\\envs\\\\local_conda_py10',\n",
       " '',\n",
       " 'C:\\\\Users\\\\55575\\\\miniconda3\\\\envs\\\\local_conda_py10\\\\lib\\\\site-packages',\n",
       " 'C:\\\\Users\\\\55575\\\\miniconda3\\\\envs\\\\local_conda_py10\\\\lib\\\\site-packages\\\\win32',\n",
       " 'C:\\\\Users\\\\55575\\\\miniconda3\\\\envs\\\\local_conda_py10\\\\lib\\\\site-packages\\\\win32\\\\lib',\n",
       " 'C:\\\\Users\\\\55575\\\\miniconda3\\\\envs\\\\local_conda_py10\\\\lib\\\\site-packages\\\\Pythonwin',\n",
       " 'C:\\\\Users\\\\55575\\\\miniconda3\\\\envs\\\\local_conda_py10\\\\lib\\\\site-packages\\\\setuptools\\\\_vendor']"
      ]
     },
     "execution_count": 13,
     "metadata": {},
     "output_type": "execute_result"
    }
   ],
   "execution_count": 13
  },
  {
   "metadata": {
    "ExecuteTime": {
     "end_time": "2025-01-07T02:38:09.766094Z",
     "start_time": "2025-01-07T02:38:09.743825Z"
    }
   },
   "cell_type": "code",
   "source": [
    "# dir 函数\n",
    "# from test_pack import fibo\n",
    "# \n",
    "# dir(fibo)\n"
   ],
   "id": "8c105522a9e8228a",
   "outputs": [
    {
     "data": {
      "text/plain": [
       "['__builtins__',\n",
       " '__cached__',\n",
       " '__doc__',\n",
       " '__file__',\n",
       " '__loader__',\n",
       " '__name__',\n",
       " '__package__',\n",
       " '__spec__',\n",
       " '_author',\n",
       " 'fib',\n",
       " 'fib2']"
      ]
     },
     "execution_count": 59,
     "metadata": {},
     "output_type": "execute_result"
    }
   ],
   "execution_count": 59
  },
  {
   "metadata": {
    "ExecuteTime": {
     "end_time": "2025-01-07T03:03:57.711738Z",
     "start_time": "2025-01-07T03:03:57.692454Z"
    }
   },
   "cell_type": "code",
   "source": [
    "#导入包\n",
    "from test_pack import fibo\n",
    "\n",
    "# from test_pack import *  #需要在包 __init__.py 文件中定义\n",
    "# from test_pack.bubble_sort import sort\n",
    "fibo.fib(50)"
   ],
   "id": "79e4b3c04cf5d14a",
   "outputs": [
    {
     "name": "stdout",
     "output_type": "stream",
     "text": [
      "0 1 1 2 3 5 8 13 21 34 \n"
     ]
    }
   ],
   "execution_count": 147
  }
 ],
 "metadata": {
  "kernelspec": {
   "display_name": "Python 3",
   "language": "python",
   "name": "python3"
  },
  "language_info": {
   "codemirror_mode": {
    "name": "ipython",
    "version": 2
   },
   "file_extension": ".py",
   "mimetype": "text/x-python",
   "name": "python",
   "nbconvert_exporter": "python",
   "pygments_lexer": "ipython2",
   "version": "2.7.6"
  }
 },
 "nbformat": 4,
 "nbformat_minor": 5
}

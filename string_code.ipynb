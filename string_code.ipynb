{
 "cells": [
  {
   "metadata": {},
   "cell_type": "raw",
   "source": [
    "字符串索引，正负索引示意图：\n",
    " +---+---+---+---+---+---+\n",
    " | P | y | t | h | o | n |\n",
    " +---+---+---+---+---+---+\n",
    " 0   1   2   3   4   5   6\n",
    "-6  -5  -4  -3  -2  -1"
   ],
   "id": "28160d3204b8035a"
  },
  {
   "cell_type": "code",
   "id": "initial_id",
   "metadata": {
    "collapsed": true,
    "ExecuteTime": {
     "end_time": "2025-01-06T02:42:48.133089Z",
     "start_time": "2025-01-06T02:42:48.125426Z"
    }
   },
   "source": [
    "word = 'Python'\n",
    "print(word[-2:5])\n",
    "print(word[-2:-1])\n"
   ],
   "outputs": [
    {
     "name": "stdout",
     "output_type": "stream",
     "text": [
      "o\n",
      "o\n"
     ]
    }
   ],
   "execution_count": 6
  },
  {
   "metadata": {},
   "cell_type": "markdown",
   "source": "字符串方法",
   "id": "69dad57fab80869e"
  },
  {
   "metadata": {
    "ExecuteTime": {
     "end_time": "2025-01-06T03:05:45.808593Z",
     "start_time": "2025-01-06T03:05:45.795011Z"
    }
   },
   "cell_type": "code",
   "source": "word=('learning python,haha!')",
   "id": "41bc60a008de2d23",
   "outputs": [],
   "execution_count": 13
  },
  {
   "metadata": {
    "ExecuteTime": {
     "end_time": "2025-01-06T03:05:47.584498Z",
     "start_time": "2025-01-06T03:05:47.572644Z"
    }
   },
   "cell_type": "code",
   "source": [
    "#仅字符串的首字母大写\n",
    "word.capitalize()"
   ],
   "id": "3887b6821dfd1801",
   "outputs": [
    {
     "data": {
      "text/plain": [
       "'Learning python,haha!'"
      ]
     },
     "execution_count": 14,
     "metadata": {},
     "output_type": "execute_result"
    }
   ],
   "execution_count": 14
  },
  {
   "metadata": {
    "ExecuteTime": {
     "end_time": "2025-01-06T03:05:49.909268Z",
     "start_time": "2025-01-06T03:05:49.890405Z"
    }
   },
   "cell_type": "code",
   "source": [
    "#字符串中，每个词首字母大写\n",
    "word.title()"
   ],
   "id": "590979f0b721e4c7",
   "outputs": [
    {
     "data": {
      "text/plain": [
       "'Learning Python,Haha!'"
      ]
     },
     "execution_count": 15,
     "metadata": {},
     "output_type": "execute_result"
    }
   ],
   "execution_count": 15
  }
 ],
 "metadata": {
  "kernelspec": {
   "display_name": "Python 3",
   "language": "python",
   "name": "python3"
  },
  "language_info": {
   "codemirror_mode": {
    "name": "ipython",
    "version": 2
   },
   "file_extension": ".py",
   "mimetype": "text/x-python",
   "name": "python",
   "nbconvert_exporter": "python",
   "pygments_lexer": "ipython2",
   "version": "2.7.6"
  }
 },
 "nbformat": 4,
 "nbformat_minor": 5
}

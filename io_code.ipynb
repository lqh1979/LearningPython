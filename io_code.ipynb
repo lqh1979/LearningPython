{
 "cells": [
  {
   "cell_type": "code",
   "id": "initial_id",
   "metadata": {
    "collapsed": true,
    "ExecuteTime": {
     "end_time": "2025-01-07T03:08:38.383804Z",
     "start_time": "2025-01-07T03:08:38.375292Z"
    }
   },
   "source": [
    "year = 2016\n",
    "event = 'Referendum'\n",
    "f'Results of the {year} {event}'"
   ],
   "outputs": [
    {
     "data": {
      "text/plain": [
       "'Results of the 2016 Referendum'"
      ]
     },
     "execution_count": 1,
     "metadata": {},
     "output_type": "execute_result"
    }
   ],
   "execution_count": 1
  },
  {
   "metadata": {
    "ExecuteTime": {
     "end_time": "2025-01-07T03:19:08.867778Z",
     "start_time": "2025-01-07T03:19:08.857183Z"
    }
   },
   "cell_type": "code",
   "source": [
    "yes_votes = -42_572_654\n",
    "total_votes = 85_705_149\n",
    "percentage = yes_votes / total_votes\n",
    "'{} YES votes  {:2.3%}'.format(yes_votes, percentage)"
   ],
   "id": "d99267a5222c66d2",
   "outputs": [
    {
     "data": {
      "text/plain": [
       "'-42572654 YES votes  -49.673%'"
      ]
     },
     "execution_count": 36,
     "metadata": {},
     "output_type": "execute_result"
    }
   ],
   "execution_count": 36
  },
  {
   "metadata": {
    "ExecuteTime": {
     "end_time": "2025-01-07T03:21:11.451748Z",
     "start_time": "2025-01-07T03:21:11.434712Z"
    }
   },
   "cell_type": "code",
   "source": [
    "import math\n",
    "print(f'The value of pi is approximately {math.pi:.8f}.')"
   ],
   "id": "30a59e39da43b300",
   "outputs": [
    {
     "name": "stdout",
     "output_type": "stream",
     "text": [
      "The value of pi is approximately 3.14159265.\n"
     ]
    }
   ],
   "execution_count": 38
  },
  {
   "metadata": {
    "ExecuteTime": {
     "end_time": "2025-01-07T03:22:19.056856Z",
     "start_time": "2025-01-07T03:22:19.042753Z"
    }
   },
   "cell_type": "code",
   "source": [
    "table = {'Sjoerd': 4127, 'Jack': 4098, 'Dcab': 7678}\n",
    "for name, phone in table.items():\n",
    "    print(f'{name:10} ==> {phone:10d}')"
   ],
   "id": "3fd153168fa3eb29",
   "outputs": [
    {
     "name": "stdout",
     "output_type": "stream",
     "text": [
      "Sjoerd     ==>       4127\n",
      "Jack       ==>       4098\n",
      "Dcab       ==>       7678\n"
     ]
    }
   ],
   "execution_count": 41
  },
  {
   "metadata": {
    "ExecuteTime": {
     "end_time": "2025-01-07T03:25:01.580989Z",
     "start_time": "2025-01-07T03:25:01.564816Z"
    }
   },
   "cell_type": "code",
   "source": [
    "bugs = 'roaches'\n",
    "count = 13\n",
    "area = 'living room'\n",
    "print(f'Debugging {bugs=} {count=} {area=}')"
   ],
   "id": "3d2d3f7896c894d5",
   "outputs": [
    {
     "name": "stdout",
     "output_type": "stream",
     "text": [
      "Debugging bugs='roaches' count=13 area='living room'\n"
     ]
    }
   ],
   "execution_count": 42
  },
  {
   "metadata": {
    "ExecuteTime": {
     "end_time": "2025-01-07T03:25:38.472365Z",
     "start_time": "2025-01-07T03:25:38.455447Z"
    }
   },
   "cell_type": "code",
   "source": [
    "# print('{0} and {1}'.format('spam', 'eggs'))\n",
    "\n",
    "print('{1} and {0}'.format('spam', 'eggs'))"
   ],
   "id": "ff1fd171b2fa2e07",
   "outputs": [
    {
     "name": "stdout",
     "output_type": "stream",
     "text": [
      "eggs and spam\n"
     ]
    }
   ],
   "execution_count": 43
  },
  {
   "metadata": {
    "ExecuteTime": {
     "end_time": "2025-01-07T03:32:08.336993Z",
     "start_time": "2025-01-07T03:32:08.317461Z"
    }
   },
   "cell_type": "code",
   "source": [
    "table = {'Sjoerd': 4127, 'Jack': 4098, 'Dcab': 8637678}\n",
    "print('Jack: {0[Jack]:d}; Sjoerd: {0[Sjoerd]:d}; '\n",
    "      'Dcab: {0[Dcab]:d}'.format(table))"
   ],
   "id": "3d830f9bda87b507",
   "outputs": [
    {
     "name": "stdout",
     "output_type": "stream",
     "text": [
      "Jack: 4098; Sjoerd: 4127; Dcab: 8637678\n"
     ]
    }
   ],
   "execution_count": 46
  },
  {
   "metadata": {
    "ExecuteTime": {
     "end_time": "2025-01-07T03:32:16.460964Z",
     "start_time": "2025-01-07T03:32:16.440700Z"
    }
   },
   "cell_type": "code",
   "source": [
    "table = {k: str(v) for k, v in vars().items()}\n",
    "message = \" \".join([f'{k}: ' + '{' + k +'};' for k in table.keys()])\n",
    "print(message.format(**table))"
   ],
   "id": "24317664d1786ba8",
   "outputs": [
    {
     "name": "stdout",
     "output_type": "stream",
     "text": [
      "__name__: __main__; __doc__: Automatically created module for IPython interactive environment; __package__: None; __loader__: None; __spec__: None; __builtin__: <module 'builtins' (built-in)>; __builtins__: <module 'builtins' (built-in)>; _ih: ['', \"year = 2016\\nevent = 'Referendum'\\nf'Results of the {year} {event}'\", \"yes_votes = 42_572_654\\ntotal_votes = 85_705_149\\npercentage = yes_votes / total_votes\\n'{:-9} YES votes  {:2.2%}'.format(yes_votes, percentage)\", \"yes_votes = 42_572_654\\ntotal_votes = 85_705_149\\npercentage = yes_votes / total_votes\\n'{} YES votes  {:2.2%}'.format(yes_votes, percentage)\", \"yes_votes = 42_572_654\\ntotal_votes = 85_705_149\\npercentage = yes_votes / total_votes\\n'{:-9} YES votes  {:2.2%}'.format(yes_votes, percentage)\", \"yes_votes = 42_572_654\\ntotal_votes = 85_705_149\\npercentage = yes_votes / total_votes\\n'{:9} YES votes  {:2.2%}'.format(yes_votes, percentage)\", \"yes_votes = 42_572_654\\ntotal_votes = 85_705_149\\npercentage = yes_votes / total_votes\\n'{:-9} YES votes  {:2.2%}'.format(yes_votes, percentage)\", \"yes_votes = 42_572_654\\ntotal_votes = 85_705_149\\npercentage = yes_votes / total_votes\\n'{} YES votes  {:2.2%}'.format(yes_votes, percentage)\", \"yes_votes = 42_572_654\\ntotal_votes = 85_705_149\\npercentage = yes_votes / total_votes\\n'{:-9} YES votes  {:2.3%}'.format(yes_votes, percentage)\", \"yes_votes = 42_572_654\\ntotal_votes = 85_705_149\\npercentage = yes_votes / total_votes\\n'{:09} YES votes  {:2.3%}'.format(yes_votes, percentage)\", \"yes_votes = 42_572_654\\ntotal_votes = 85_705_149\\npercentage = yes_votes / total_votes\\n'{:-9} YES votes  {:2.3%}'.format(yes_votes, percentage)\", \"yes_votes = 42_572_654\\ntotal_votes = 85_705_149\\npercentage = yes_votes / total_votes\\n'{:9} YES votes  {:2.3%}'.format(yes_votes, percentage)\", \"yes_votes = 42_572_654\\ntotal_votes = 85_705_149\\npercentage = yes_votes / total_votes\\n'{: 9} YES votes  {:2.3%}'.format(yes_votes, percentage)\", \"yes_votes = 42_572_654\\ntotal_votes = 85_705_149\\npercentage = yes_votes / total_votes\\n'{:7} YES votes  {:2.3%}'.format(yes_votes, percentage)\", \"yes_votes = 42_572_654\\ntotal_votes = 85_705_149\\npercentage = yes_votes / total_votes\\n'{:-9} YES votes  {:2.3%}'.format(yes_votes, percentage)\", \"yes_votes = 42_572_654\\ntotal_votes = 85_705_149\\npercentage = yes_votes / total_votes\\n'{:-9} YES votes  {:02.3%}'.format(yes_votes, percentage)\", \"yes_votes = 42_572_654\\ntotal_votes = 85_705_149\\npercentage = yes_votes / total_votes\\n'{:-9} YES votes  {:3.3%}'.format(yes_votes, percentage)\", \"yes_votes = 42_572_654\\ntotal_votes = 85_705_149\\npercentage = yes_votes / total_votes\\n'{:-9} YES votes  {:03.3%}'.format(yes_votes, percentage)\", \"yes_votes = 42_572_654\\ntotal_votes = 85_705_149\\npercentage = yes_votes / total_votes\\n'{:-9} YES votes  {:03.3%}'.format(yes_votes, percentage)\", \"yes_votes = 42_572_654\\ntotal_votes = 85_705_149\\npercentage = yes_votes / total_votes\\n'{:-9} YES votes  {:2.3%}'.format(yes_votes, percentage)\", \"yes_votes = -42_572_654\\ntotal_votes = 85_705_149\\npercentage = yes_votes / total_votes\\n'{:-9} YES votes  {:2.3%}'.format(yes_votes, percentage)\", \"yes_votes = -42_572_654\\ntotal_votes = 85_705_149\\npercentage = yes_votes / total_votes\\n'{:9} YES votes  {:2.3%}'.format(yes_votes, percentage)\", \"yes_votes = -42_572_654\\ntotal_votes = 85_705_149\\npercentage = yes_votes / total_votes\\n'{:+9} YES votes  {:2.3%}'.format(yes_votes, percentage)\", \"yes_votes = 42_572_654\\ntotal_votes = 85_705_149\\npercentage = yes_votes / total_votes\\n'{:+9} YES votes  {:2.3%}'.format(yes_votes, percentage)\", \"yes_votes = 42_572_654\\ntotal_votes = 85_705_149\\npercentage = yes_votes / total_votes\\n'{:+9} YES votes  {:2.3%}'.format(yes_votes, percentage)\", \"yes_votes = 42_572_654\\ntotal_votes = 85_705_149\\npercentage = yes_votes / total_votes\\n'{:+9} YES votes  {:2.3%}'.format(yes_votes, percentage)\", \"yes_votes = 42_572_654\\ntotal_votes = 85_705_149\\npercentage = yes_votes / total_votes\\n'{:+9} YES votes  {:2.3%}'.format(yes_votes, percentage)\", \"yes_votes = -42_572_654\\ntotal_votes = 85_705_149\\npercentage = yes_votes / total_votes\\n'{:9} YES votes  {:2.3%}'.format(yes_votes, percentage)\", \"yes_votes = -42_572_654\\ntotal_votes = 85_705_149\\npercentage = yes_votes / total_votes\\n'{:-9} YES votes  {:2.3%}'.format(yes_votes, percentage)\", \"yes_votes = -42_572_654\\ntotal_votes = 85_705_149\\npercentage = yes_votes / total_votes\\n'{:9} YES votes  {:2.3%}'.format(yes_votes, percentage)\", \"yes_votes = -42_572_654\\ntotal_votes = 85_705_149\\npercentage = yes_votes / total_votes\\n'{:-9} YES votes  {:2.3%}'.format(yes_votes, percentage)\", \"yes_votes = -42_572_654\\ntotal_votes = 85_705_149\\npercentage = yes_votes / total_votes\\n'{:d%} YES votes  {:2.3%}'.format(yes_votes, percentage)\", \"yes_votes = -42_572_654\\ntotal_votes = 85_705_149\\npercentage = yes_votes / total_votes\\n'{d%} YES votes  {:2.3%}'.format(yes_votes, percentage)\", \"yes_votes = -42_572_654\\ntotal_votes = 85_705_149\\npercentage = yes_votes / total_votes\\n'{:d%} YES votes  {:2.3%}'.format(yes_votes, percentage)\", \"yes_votes = -42_572_654\\ntotal_votes = 85_705_149\\npercentage = yes_votes / total_votes\\n'{:n%} YES votes  {:2.3%}'.format(yes_votes, percentage)\", \"yes_votes = -42_572_654\\ntotal_votes = 85_705_149\\npercentage = yes_votes / total_votes\\n'{:} YES votes  {:2.3%}'.format(yes_votes, percentage)\", \"yes_votes = -42_572_654\\ntotal_votes = 85_705_149\\npercentage = yes_votes / total_votes\\n'{} YES votes  {:2.3%}'.format(yes_votes, percentage)\", \"import math\\nprint(f'The value of pi is approximately {math.pi:.3f}.')\", \"import math\\nprint(f'The value of pi is approximately {math.pi:.8f}.')\", \"table = {'Sjoerd': 4127, 'Jack': 4098, 'Dcab': 7678}\\nfor name, phone in table.items():\\n    print(f'{name:10} ==> {phone:10d}')\", \"table = {'Sjoerd': 4127, 'Jack': 4098, 'Dcab': 7678}\\nfor name, phone in table.items():\\n    print(f'{name:-10} ==> {phone:10d}')\", \"table = {'Sjoerd': 4127, 'Jack': 4098, 'Dcab': 7678}\\nfor name, phone in table.items():\\n    print(f'{name:10} ==> {phone:10d}')\", \"bugs = 'roaches'\\ncount = 13\\narea = 'living room'\\nprint(f'Debugging {bugs=} {count=} {area=}')\", \"# print('{0} and {1}'.format('spam', 'eggs'))\\n\\nprint('{1} and {0}'.format('spam', 'eggs'))\", \"table = {'Sjoerd': 4127, 'Jack': 4098, 'Dcab': 8637678}\\nprint('Jack: {0[Jack]:d}; Sjoerd: {0[Sjoerd]:d}; '\\n      'Dcab: {0[Dcab]:d}'.format(table))\", \"table = {'Sjoerd': 4127, 'Jack': 4098, 'Dcab': 8637678}\\nprint('Jack: {[Jack]:d}; Sjoerd: {0[Sjoerd]:d}; '\\n      'Dcab: {0[Dcab]:d}'.format(table))\", \"table = {'Sjoerd': 4127, 'Jack': 4098, 'Dcab': 8637678}\\nprint('Jack: {0[Jack]:d}; Sjoerd: {0[Sjoerd]:d}; '\\n      'Dcab: {0[Dcab]:d}'.format(table))\", 'table = {k: str(v) for k, v in vars().items()}\\nmessage = \" \".join([f\\'{k}: \\' + \\'{\\' + k +\\'};\\' for k in table.keys()])\\nprint(message.format(**table))', 'table = {k: str(v) for k, v in vars().items()}\\nmessage = \" \".join([f\\'{k}: \\' + \\'{\\' + k +\\'};\\' for k in table.keys()])\\nprint(message.format(**table))']; _oh: {1: 'Results of the 2016 Referendum', 2: ' 42572654 YES votes  49.67%', 3: '42572654 YES votes  49.67%', 4: ' 42572654 YES votes  49.67%', 5: ' 42572654 YES votes  49.67%', 6: ' 42572654 YES votes  49.67%', 7: '42572654 YES votes  49.67%', 8: ' 42572654 YES votes  49.673%', 9: '042572654 YES votes  49.673%', 10: ' 42572654 YES votes  49.673%', 11: ' 42572654 YES votes  49.673%', 12: ' 42572654 YES votes  49.673%', 13: '42572654 YES votes  49.673%', 14: ' 42572654 YES votes  49.673%', 15: ' 42572654 YES votes  49.673%', 16: ' 42572654 YES votes  49.673%', 17: ' 42572654 YES votes  49.673%', 18: ' 42572654 YES votes  49.673%', 19: ' 42572654 YES votes  49.673%', 20: '-42572654 YES votes  -49.673%', 21: '-42572654 YES votes  -49.673%', 22: '-42572654 YES votes  -49.673%', 23: '+42572654 YES votes  49.673%', 24: '+42572654 YES votes  49.673%', 25: '+42572654 YES votes  49.673%', 26: '+42572654 YES votes  49.673%', 27: '-42572654 YES votes  -49.673%', 28: '-42572654 YES votes  -49.673%', 29: '-42572654 YES votes  -49.673%', 30: '-42572654 YES votes  -49.673%', 35: '-42572654 YES votes  -49.673%', 36: '-42572654 YES votes  -49.673%'}; _dh: [WindowsPath('C:/Users/55575/PycharmProjects/LearningPython')]; In: ['', \"year = 2016\\nevent = 'Referendum'\\nf'Results of the {year} {event}'\", \"yes_votes = 42_572_654\\ntotal_votes = 85_705_149\\npercentage = yes_votes / total_votes\\n'{:-9} YES votes  {:2.2%}'.format(yes_votes, percentage)\", \"yes_votes = 42_572_654\\ntotal_votes = 85_705_149\\npercentage = yes_votes / total_votes\\n'{} YES votes  {:2.2%}'.format(yes_votes, percentage)\", \"yes_votes = 42_572_654\\ntotal_votes = 85_705_149\\npercentage = yes_votes / total_votes\\n'{:-9} YES votes  {:2.2%}'.format(yes_votes, percentage)\", \"yes_votes = 42_572_654\\ntotal_votes = 85_705_149\\npercentage = yes_votes / total_votes\\n'{:9} YES votes  {:2.2%}'.format(yes_votes, percentage)\", \"yes_votes = 42_572_654\\ntotal_votes = 85_705_149\\npercentage = yes_votes / total_votes\\n'{:-9} YES votes  {:2.2%}'.format(yes_votes, percentage)\", \"yes_votes = 42_572_654\\ntotal_votes = 85_705_149\\npercentage = yes_votes / total_votes\\n'{} YES votes  {:2.2%}'.format(yes_votes, percentage)\", \"yes_votes = 42_572_654\\ntotal_votes = 85_705_149\\npercentage = yes_votes / total_votes\\n'{:-9} YES votes  {:2.3%}'.format(yes_votes, percentage)\", \"yes_votes = 42_572_654\\ntotal_votes = 85_705_149\\npercentage = yes_votes / total_votes\\n'{:09} YES votes  {:2.3%}'.format(yes_votes, percentage)\", \"yes_votes = 42_572_654\\ntotal_votes = 85_705_149\\npercentage = yes_votes / total_votes\\n'{:-9} YES votes  {:2.3%}'.format(yes_votes, percentage)\", \"yes_votes = 42_572_654\\ntotal_votes = 85_705_149\\npercentage = yes_votes / total_votes\\n'{:9} YES votes  {:2.3%}'.format(yes_votes, percentage)\", \"yes_votes = 42_572_654\\ntotal_votes = 85_705_149\\npercentage = yes_votes / total_votes\\n'{: 9} YES votes  {:2.3%}'.format(yes_votes, percentage)\", \"yes_votes = 42_572_654\\ntotal_votes = 85_705_149\\npercentage = yes_votes / total_votes\\n'{:7} YES votes  {:2.3%}'.format(yes_votes, percentage)\", \"yes_votes = 42_572_654\\ntotal_votes = 85_705_149\\npercentage = yes_votes / total_votes\\n'{:-9} YES votes  {:2.3%}'.format(yes_votes, percentage)\", \"yes_votes = 42_572_654\\ntotal_votes = 85_705_149\\npercentage = yes_votes / total_votes\\n'{:-9} YES votes  {:02.3%}'.format(yes_votes, percentage)\", \"yes_votes = 42_572_654\\ntotal_votes = 85_705_149\\npercentage = yes_votes / total_votes\\n'{:-9} YES votes  {:3.3%}'.format(yes_votes, percentage)\", \"yes_votes = 42_572_654\\ntotal_votes = 85_705_149\\npercentage = yes_votes / total_votes\\n'{:-9} YES votes  {:03.3%}'.format(yes_votes, percentage)\", \"yes_votes = 42_572_654\\ntotal_votes = 85_705_149\\npercentage = yes_votes / total_votes\\n'{:-9} YES votes  {:03.3%}'.format(yes_votes, percentage)\", \"yes_votes = 42_572_654\\ntotal_votes = 85_705_149\\npercentage = yes_votes / total_votes\\n'{:-9} YES votes  {:2.3%}'.format(yes_votes, percentage)\", \"yes_votes = -42_572_654\\ntotal_votes = 85_705_149\\npercentage = yes_votes / total_votes\\n'{:-9} YES votes  {:2.3%}'.format(yes_votes, percentage)\", \"yes_votes = -42_572_654\\ntotal_votes = 85_705_149\\npercentage = yes_votes / total_votes\\n'{:9} YES votes  {:2.3%}'.format(yes_votes, percentage)\", \"yes_votes = -42_572_654\\ntotal_votes = 85_705_149\\npercentage = yes_votes / total_votes\\n'{:+9} YES votes  {:2.3%}'.format(yes_votes, percentage)\", \"yes_votes = 42_572_654\\ntotal_votes = 85_705_149\\npercentage = yes_votes / total_votes\\n'{:+9} YES votes  {:2.3%}'.format(yes_votes, percentage)\", \"yes_votes = 42_572_654\\ntotal_votes = 85_705_149\\npercentage = yes_votes / total_votes\\n'{:+9} YES votes  {:2.3%}'.format(yes_votes, percentage)\", \"yes_votes = 42_572_654\\ntotal_votes = 85_705_149\\npercentage = yes_votes / total_votes\\n'{:+9} YES votes  {:2.3%}'.format(yes_votes, percentage)\", \"yes_votes = 42_572_654\\ntotal_votes = 85_705_149\\npercentage = yes_votes / total_votes\\n'{:+9} YES votes  {:2.3%}'.format(yes_votes, percentage)\", \"yes_votes = -42_572_654\\ntotal_votes = 85_705_149\\npercentage = yes_votes / total_votes\\n'{:9} YES votes  {:2.3%}'.format(yes_votes, percentage)\", \"yes_votes = -42_572_654\\ntotal_votes = 85_705_149\\npercentage = yes_votes / total_votes\\n'{:-9} YES votes  {:2.3%}'.format(yes_votes, percentage)\", \"yes_votes = -42_572_654\\ntotal_votes = 85_705_149\\npercentage = yes_votes / total_votes\\n'{:9} YES votes  {:2.3%}'.format(yes_votes, percentage)\", \"yes_votes = -42_572_654\\ntotal_votes = 85_705_149\\npercentage = yes_votes / total_votes\\n'{:-9} YES votes  {:2.3%}'.format(yes_votes, percentage)\", \"yes_votes = -42_572_654\\ntotal_votes = 85_705_149\\npercentage = yes_votes / total_votes\\n'{:d%} YES votes  {:2.3%}'.format(yes_votes, percentage)\", \"yes_votes = -42_572_654\\ntotal_votes = 85_705_149\\npercentage = yes_votes / total_votes\\n'{d%} YES votes  {:2.3%}'.format(yes_votes, percentage)\", \"yes_votes = -42_572_654\\ntotal_votes = 85_705_149\\npercentage = yes_votes / total_votes\\n'{:d%} YES votes  {:2.3%}'.format(yes_votes, percentage)\", \"yes_votes = -42_572_654\\ntotal_votes = 85_705_149\\npercentage = yes_votes / total_votes\\n'{:n%} YES votes  {:2.3%}'.format(yes_votes, percentage)\", \"yes_votes = -42_572_654\\ntotal_votes = 85_705_149\\npercentage = yes_votes / total_votes\\n'{:} YES votes  {:2.3%}'.format(yes_votes, percentage)\", \"yes_votes = -42_572_654\\ntotal_votes = 85_705_149\\npercentage = yes_votes / total_votes\\n'{} YES votes  {:2.3%}'.format(yes_votes, percentage)\", \"import math\\nprint(f'The value of pi is approximately {math.pi:.3f}.')\", \"import math\\nprint(f'The value of pi is approximately {math.pi:.8f}.')\", \"table = {'Sjoerd': 4127, 'Jack': 4098, 'Dcab': 7678}\\nfor name, phone in table.items():\\n    print(f'{name:10} ==> {phone:10d}')\", \"table = {'Sjoerd': 4127, 'Jack': 4098, 'Dcab': 7678}\\nfor name, phone in table.items():\\n    print(f'{name:-10} ==> {phone:10d}')\", \"table = {'Sjoerd': 4127, 'Jack': 4098, 'Dcab': 7678}\\nfor name, phone in table.items():\\n    print(f'{name:10} ==> {phone:10d}')\", \"bugs = 'roaches'\\ncount = 13\\narea = 'living room'\\nprint(f'Debugging {bugs=} {count=} {area=}')\", \"# print('{0} and {1}'.format('spam', 'eggs'))\\n\\nprint('{1} and {0}'.format('spam', 'eggs'))\", \"table = {'Sjoerd': 4127, 'Jack': 4098, 'Dcab': 8637678}\\nprint('Jack: {0[Jack]:d}; Sjoerd: {0[Sjoerd]:d}; '\\n      'Dcab: {0[Dcab]:d}'.format(table))\", \"table = {'Sjoerd': 4127, 'Jack': 4098, 'Dcab': 8637678}\\nprint('Jack: {[Jack]:d}; Sjoerd: {0[Sjoerd]:d}; '\\n      'Dcab: {0[Dcab]:d}'.format(table))\", \"table = {'Sjoerd': 4127, 'Jack': 4098, 'Dcab': 8637678}\\nprint('Jack: {0[Jack]:d}; Sjoerd: {0[Sjoerd]:d}; '\\n      'Dcab: {0[Dcab]:d}'.format(table))\", 'table = {k: str(v) for k, v in vars().items()}\\nmessage = \" \".join([f\\'{k}: \\' + \\'{\\' + k +\\'};\\' for k in table.keys()])\\nprint(message.format(**table))', 'table = {k: str(v) for k, v in vars().items()}\\nmessage = \" \".join([f\\'{k}: \\' + \\'{\\' + k +\\'};\\' for k in table.keys()])\\nprint(message.format(**table))']; Out: {1: 'Results of the 2016 Referendum', 2: ' 42572654 YES votes  49.67%', 3: '42572654 YES votes  49.67%', 4: ' 42572654 YES votes  49.67%', 5: ' 42572654 YES votes  49.67%', 6: ' 42572654 YES votes  49.67%', 7: '42572654 YES votes  49.67%', 8: ' 42572654 YES votes  49.673%', 9: '042572654 YES votes  49.673%', 10: ' 42572654 YES votes  49.673%', 11: ' 42572654 YES votes  49.673%', 12: ' 42572654 YES votes  49.673%', 13: '42572654 YES votes  49.673%', 14: ' 42572654 YES votes  49.673%', 15: ' 42572654 YES votes  49.673%', 16: ' 42572654 YES votes  49.673%', 17: ' 42572654 YES votes  49.673%', 18: ' 42572654 YES votes  49.673%', 19: ' 42572654 YES votes  49.673%', 20: '-42572654 YES votes  -49.673%', 21: '-42572654 YES votes  -49.673%', 22: '-42572654 YES votes  -49.673%', 23: '+42572654 YES votes  49.673%', 24: '+42572654 YES votes  49.673%', 25: '+42572654 YES votes  49.673%', 26: '+42572654 YES votes  49.673%', 27: '-42572654 YES votes  -49.673%', 28: '-42572654 YES votes  -49.673%', 29: '-42572654 YES votes  -49.673%', 30: '-42572654 YES votes  -49.673%', 35: '-42572654 YES votes  -49.673%', 36: '-42572654 YES votes  -49.673%'}; get_ipython: <bound method InteractiveShell.get_ipython of <ipykernel.zmqshell.ZMQInteractiveShell object at 0x00000227A87B8820>>; exit: <IPython.core.autocall.ZMQExitAutocall object at 0x00000227A87B92D0>; quit: <IPython.core.autocall.ZMQExitAutocall object at 0x00000227A87B92D0>; open: <function open at 0x00000227A717D750>; _: -42572654 YES votes  -49.673%; __: -42572654 YES votes  -49.673%; ___: -42572654 YES votes  -49.673%; __session__: io_code.ipynb; _i: table = {k: str(v) for k, v in vars().items()}\n",
      "message = \" \".join([f'{k}: ' + '{' + k +'};' for k in table.keys()])\n",
      "print(message.format(**table)); _ii: table = {'Sjoerd': 4127, 'Jack': 4098, 'Dcab': 8637678}\n",
      "print('Jack: {0[Jack]:d}; Sjoerd: {0[Sjoerd]:d}; '\n",
      "      'Dcab: {0[Dcab]:d}'.format(table)); _iii: table = {'Sjoerd': 4127, 'Jack': 4098, 'Dcab': 8637678}\n",
      "print('Jack: {[Jack]:d}; Sjoerd: {0[Sjoerd]:d}; '\n",
      "      'Dcab: {0[Dcab]:d}'.format(table)); _i1: year = 2016\n",
      "event = 'Referendum'\n",
      "f'Results of the {year} {event}'; year: 2016; event: Referendum; _1: Results of the 2016 Referendum; sys: <module 'sys' (built-in)>; remove_imported_pydev_package: <function remove_imported_pydev_package at 0x00000227A87BE9E0>; _pydevd_bundle: <module '_pydevd_bundle' from 'C:\\\\Program Files\\\\JetBrains\\\\PyCharm 2024.1.5\\\\plugins\\\\python\\\\helpers\\\\pydev\\\\_pydevd_bundle\\\\__init__.py'>; pydev_jupyter_vars: <module 'pydev_jupyter_vars' from 'C:\\\\Program Files\\\\JetBrains\\\\PyCharm 2024.1.5\\\\plugins\\\\python\\\\helpers-pro\\\\jupyter_debug\\\\pydev_jupyter_vars.py'>; _i2: yes_votes = 42_572_654\n",
      "total_votes = 85_705_149\n",
      "percentage = yes_votes / total_votes\n",
      "'{:-9} YES votes  {:2.2%}'.format(yes_votes, percentage); yes_votes: -42572654; total_votes: 85705149; percentage: -0.496733912684756; _2:  42572654 YES votes  49.67%; _i3: yes_votes = 42_572_654\n",
      "total_votes = 85_705_149\n",
      "percentage = yes_votes / total_votes\n",
      "'{} YES votes  {:2.2%}'.format(yes_votes, percentage); _3: 42572654 YES votes  49.67%; _i4: yes_votes = 42_572_654\n",
      "total_votes = 85_705_149\n",
      "percentage = yes_votes / total_votes\n",
      "'{:-9} YES votes  {:2.2%}'.format(yes_votes, percentage); _4:  42572654 YES votes  49.67%; _i5: yes_votes = 42_572_654\n",
      "total_votes = 85_705_149\n",
      "percentage = yes_votes / total_votes\n",
      "'{:9} YES votes  {:2.2%}'.format(yes_votes, percentage); _5:  42572654 YES votes  49.67%; _i6: yes_votes = 42_572_654\n",
      "total_votes = 85_705_149\n",
      "percentage = yes_votes / total_votes\n",
      "'{:-9} YES votes  {:2.2%}'.format(yes_votes, percentage); _6:  42572654 YES votes  49.67%; _i7: yes_votes = 42_572_654\n",
      "total_votes = 85_705_149\n",
      "percentage = yes_votes / total_votes\n",
      "'{} YES votes  {:2.2%}'.format(yes_votes, percentage); _7: 42572654 YES votes  49.67%; _i8: yes_votes = 42_572_654\n",
      "total_votes = 85_705_149\n",
      "percentage = yes_votes / total_votes\n",
      "'{:-9} YES votes  {:2.3%}'.format(yes_votes, percentage); _8:  42572654 YES votes  49.673%; _i9: yes_votes = 42_572_654\n",
      "total_votes = 85_705_149\n",
      "percentage = yes_votes / total_votes\n",
      "'{:09} YES votes  {:2.3%}'.format(yes_votes, percentage); _9: 042572654 YES votes  49.673%; _i10: yes_votes = 42_572_654\n",
      "total_votes = 85_705_149\n",
      "percentage = yes_votes / total_votes\n",
      "'{:-9} YES votes  {:2.3%}'.format(yes_votes, percentage); _10:  42572654 YES votes  49.673%; _i11: yes_votes = 42_572_654\n",
      "total_votes = 85_705_149\n",
      "percentage = yes_votes / total_votes\n",
      "'{:9} YES votes  {:2.3%}'.format(yes_votes, percentage); _11:  42572654 YES votes  49.673%; _i12: yes_votes = 42_572_654\n",
      "total_votes = 85_705_149\n",
      "percentage = yes_votes / total_votes\n",
      "'{: 9} YES votes  {:2.3%}'.format(yes_votes, percentage); _12:  42572654 YES votes  49.673%; _i13: yes_votes = 42_572_654\n",
      "total_votes = 85_705_149\n",
      "percentage = yes_votes / total_votes\n",
      "'{:7} YES votes  {:2.3%}'.format(yes_votes, percentage); _13: 42572654 YES votes  49.673%; _i14: yes_votes = 42_572_654\n",
      "total_votes = 85_705_149\n",
      "percentage = yes_votes / total_votes\n",
      "'{:-9} YES votes  {:2.3%}'.format(yes_votes, percentage); _14:  42572654 YES votes  49.673%; _i15: yes_votes = 42_572_654\n",
      "total_votes = 85_705_149\n",
      "percentage = yes_votes / total_votes\n",
      "'{:-9} YES votes  {:02.3%}'.format(yes_votes, percentage); _15:  42572654 YES votes  49.673%; _i16: yes_votes = 42_572_654\n",
      "total_votes = 85_705_149\n",
      "percentage = yes_votes / total_votes\n",
      "'{:-9} YES votes  {:3.3%}'.format(yes_votes, percentage); _16:  42572654 YES votes  49.673%; _i17: yes_votes = 42_572_654\n",
      "total_votes = 85_705_149\n",
      "percentage = yes_votes / total_votes\n",
      "'{:-9} YES votes  {:03.3%}'.format(yes_votes, percentage); _17:  42572654 YES votes  49.673%; _i18: yes_votes = 42_572_654\n",
      "total_votes = 85_705_149\n",
      "percentage = yes_votes / total_votes\n",
      "'{:-9} YES votes  {:03.3%}'.format(yes_votes, percentage); _18:  42572654 YES votes  49.673%; _i19: yes_votes = 42_572_654\n",
      "total_votes = 85_705_149\n",
      "percentage = yes_votes / total_votes\n",
      "'{:-9} YES votes  {:2.3%}'.format(yes_votes, percentage); _19:  42572654 YES votes  49.673%; _i20: yes_votes = -42_572_654\n",
      "total_votes = 85_705_149\n",
      "percentage = yes_votes / total_votes\n",
      "'{:-9} YES votes  {:2.3%}'.format(yes_votes, percentage); _20: -42572654 YES votes  -49.673%; _i21: yes_votes = -42_572_654\n",
      "total_votes = 85_705_149\n",
      "percentage = yes_votes / total_votes\n",
      "'{:9} YES votes  {:2.3%}'.format(yes_votes, percentage); _21: -42572654 YES votes  -49.673%; _i22: yes_votes = -42_572_654\n",
      "total_votes = 85_705_149\n",
      "percentage = yes_votes / total_votes\n",
      "'{:+9} YES votes  {:2.3%}'.format(yes_votes, percentage); _22: -42572654 YES votes  -49.673%; _i23: yes_votes = 42_572_654\n",
      "total_votes = 85_705_149\n",
      "percentage = yes_votes / total_votes\n",
      "'{:+9} YES votes  {:2.3%}'.format(yes_votes, percentage); _23: +42572654 YES votes  49.673%; _i24: yes_votes = 42_572_654\n",
      "total_votes = 85_705_149\n",
      "percentage = yes_votes / total_votes\n",
      "'{:+9} YES votes  {:2.3%}'.format(yes_votes, percentage); _24: +42572654 YES votes  49.673%; _i25: yes_votes = 42_572_654\n",
      "total_votes = 85_705_149\n",
      "percentage = yes_votes / total_votes\n",
      "'{:+9} YES votes  {:2.3%}'.format(yes_votes, percentage); _25: +42572654 YES votes  49.673%; _i26: yes_votes = 42_572_654\n",
      "total_votes = 85_705_149\n",
      "percentage = yes_votes / total_votes\n",
      "'{:+9} YES votes  {:2.3%}'.format(yes_votes, percentage); _26: +42572654 YES votes  49.673%; _i27: yes_votes = -42_572_654\n",
      "total_votes = 85_705_149\n",
      "percentage = yes_votes / total_votes\n",
      "'{:9} YES votes  {:2.3%}'.format(yes_votes, percentage); _27: -42572654 YES votes  -49.673%; _i28: yes_votes = -42_572_654\n",
      "total_votes = 85_705_149\n",
      "percentage = yes_votes / total_votes\n",
      "'{:-9} YES votes  {:2.3%}'.format(yes_votes, percentage); _28: -42572654 YES votes  -49.673%; _i29: yes_votes = -42_572_654\n",
      "total_votes = 85_705_149\n",
      "percentage = yes_votes / total_votes\n",
      "'{:9} YES votes  {:2.3%}'.format(yes_votes, percentage); _29: -42572654 YES votes  -49.673%; _i30: yes_votes = -42_572_654\n",
      "total_votes = 85_705_149\n",
      "percentage = yes_votes / total_votes\n",
      "'{:-9} YES votes  {:2.3%}'.format(yes_votes, percentage); _30: -42572654 YES votes  -49.673%; _i31: yes_votes = -42_572_654\n",
      "total_votes = 85_705_149\n",
      "percentage = yes_votes / total_votes\n",
      "'{:d%} YES votes  {:2.3%}'.format(yes_votes, percentage); _i32: yes_votes = -42_572_654\n",
      "total_votes = 85_705_149\n",
      "percentage = yes_votes / total_votes\n",
      "'{d%} YES votes  {:2.3%}'.format(yes_votes, percentage); _i33: yes_votes = -42_572_654\n",
      "total_votes = 85_705_149\n",
      "percentage = yes_votes / total_votes\n",
      "'{:d%} YES votes  {:2.3%}'.format(yes_votes, percentage); _i34: yes_votes = -42_572_654\n",
      "total_votes = 85_705_149\n",
      "percentage = yes_votes / total_votes\n",
      "'{:n%} YES votes  {:2.3%}'.format(yes_votes, percentage); _i35: yes_votes = -42_572_654\n",
      "total_votes = 85_705_149\n",
      "percentage = yes_votes / total_votes\n",
      "'{:} YES votes  {:2.3%}'.format(yes_votes, percentage); _35: -42572654 YES votes  -49.673%; _i36: yes_votes = -42_572_654\n",
      "total_votes = 85_705_149\n",
      "percentage = yes_votes / total_votes\n",
      "'{} YES votes  {:2.3%}'.format(yes_votes, percentage); _36: -42572654 YES votes  -49.673%; _i37: import math\n",
      "print(f'The value of pi is approximately {math.pi:.3f}.'); math: <module 'math' (built-in)>; _i38: import math\n",
      "print(f'The value of pi is approximately {math.pi:.8f}.'); _i39: table = {'Sjoerd': 4127, 'Jack': 4098, 'Dcab': 7678}\n",
      "for name, phone in table.items():\n",
      "    print(f'{name:10} ==> {phone:10d}'); table: {'__name__': '__main__', '__doc__': 'Automatically created module for IPython interactive environment', '__package__': 'None', '__loader__': 'None', '__spec__': 'None', '__builtin__': \"<module 'builtins' (built-in)>\", '__builtins__': \"<module 'builtins' (built-in)>\", '_ih': '[\\'\\', \"year = 2016\\\\nevent = \\'Referendum\\'\\\\nf\\'Results of the {year} {event}\\'\", \"yes_votes = 42_572_654\\\\ntotal_votes = 85_705_149\\\\npercentage = yes_votes / total_votes\\\\n\\'{:-9} YES votes  {:2.2%}\\'.format(yes_votes, percentage)\", \"yes_votes = 42_572_654\\\\ntotal_votes = 85_705_149\\\\npercentage = yes_votes / total_votes\\\\n\\'{} YES votes  {:2.2%}\\'.format(yes_votes, percentage)\", \"yes_votes = 42_572_654\\\\ntotal_votes = 85_705_149\\\\npercentage = yes_votes / total_votes\\\\n\\'{:-9} YES votes  {:2.2%}\\'.format(yes_votes, percentage)\", \"yes_votes = 42_572_654\\\\ntotal_votes = 85_705_149\\\\npercentage = yes_votes / total_votes\\\\n\\'{:9} YES votes  {:2.2%}\\'.format(yes_votes, percentage)\", \"yes_votes = 42_572_654\\\\ntotal_votes = 85_705_149\\\\npercentage = yes_votes / total_votes\\\\n\\'{:-9} YES votes  {:2.2%}\\'.format(yes_votes, percentage)\", \"yes_votes = 42_572_654\\\\ntotal_votes = 85_705_149\\\\npercentage = yes_votes / total_votes\\\\n\\'{} YES votes  {:2.2%}\\'.format(yes_votes, percentage)\", \"yes_votes = 42_572_654\\\\ntotal_votes = 85_705_149\\\\npercentage = yes_votes / total_votes\\\\n\\'{:-9} YES votes  {:2.3%}\\'.format(yes_votes, percentage)\", \"yes_votes = 42_572_654\\\\ntotal_votes = 85_705_149\\\\npercentage = yes_votes / total_votes\\\\n\\'{:09} YES votes  {:2.3%}\\'.format(yes_votes, percentage)\", \"yes_votes = 42_572_654\\\\ntotal_votes = 85_705_149\\\\npercentage = yes_votes / total_votes\\\\n\\'{:-9} YES votes  {:2.3%}\\'.format(yes_votes, percentage)\", \"yes_votes = 42_572_654\\\\ntotal_votes = 85_705_149\\\\npercentage = yes_votes / total_votes\\\\n\\'{:9} YES votes  {:2.3%}\\'.format(yes_votes, percentage)\", \"yes_votes = 42_572_654\\\\ntotal_votes = 85_705_149\\\\npercentage = yes_votes / total_votes\\\\n\\'{: 9} YES votes  {:2.3%}\\'.format(yes_votes, percentage)\", \"yes_votes = 42_572_654\\\\ntotal_votes = 85_705_149\\\\npercentage = yes_votes / total_votes\\\\n\\'{:7} YES votes  {:2.3%}\\'.format(yes_votes, percentage)\", \"yes_votes = 42_572_654\\\\ntotal_votes = 85_705_149\\\\npercentage = yes_votes / total_votes\\\\n\\'{:-9} YES votes  {:2.3%}\\'.format(yes_votes, percentage)\", \"yes_votes = 42_572_654\\\\ntotal_votes = 85_705_149\\\\npercentage = yes_votes / total_votes\\\\n\\'{:-9} YES votes  {:02.3%}\\'.format(yes_votes, percentage)\", \"yes_votes = 42_572_654\\\\ntotal_votes = 85_705_149\\\\npercentage = yes_votes / total_votes\\\\n\\'{:-9} YES votes  {:3.3%}\\'.format(yes_votes, percentage)\", \"yes_votes = 42_572_654\\\\ntotal_votes = 85_705_149\\\\npercentage = yes_votes / total_votes\\\\n\\'{:-9} YES votes  {:03.3%}\\'.format(yes_votes, percentage)\", \"yes_votes = 42_572_654\\\\ntotal_votes = 85_705_149\\\\npercentage = yes_votes / total_votes\\\\n\\'{:-9} YES votes  {:03.3%}\\'.format(yes_votes, percentage)\", \"yes_votes = 42_572_654\\\\ntotal_votes = 85_705_149\\\\npercentage = yes_votes / total_votes\\\\n\\'{:-9} YES votes  {:2.3%}\\'.format(yes_votes, percentage)\", \"yes_votes = -42_572_654\\\\ntotal_votes = 85_705_149\\\\npercentage = yes_votes / total_votes\\\\n\\'{:-9} YES votes  {:2.3%}\\'.format(yes_votes, percentage)\", \"yes_votes = -42_572_654\\\\ntotal_votes = 85_705_149\\\\npercentage = yes_votes / total_votes\\\\n\\'{:9} YES votes  {:2.3%}\\'.format(yes_votes, percentage)\", \"yes_votes = -42_572_654\\\\ntotal_votes = 85_705_149\\\\npercentage = yes_votes / total_votes\\\\n\\'{:+9} YES votes  {:2.3%}\\'.format(yes_votes, percentage)\", \"yes_votes = 42_572_654\\\\ntotal_votes = 85_705_149\\\\npercentage = yes_votes / total_votes\\\\n\\'{:+9} YES votes  {:2.3%}\\'.format(yes_votes, percentage)\", \"yes_votes = 42_572_654\\\\ntotal_votes = 85_705_149\\\\npercentage = yes_votes / total_votes\\\\n\\'{:+9} YES votes  {:2.3%}\\'.format(yes_votes, percentage)\", \"yes_votes = 42_572_654\\\\ntotal_votes = 85_705_149\\\\npercentage = yes_votes / total_votes\\\\n\\'{:+9} YES votes  {:2.3%}\\'.format(yes_votes, percentage)\", \"yes_votes = 42_572_654\\\\ntotal_votes = 85_705_149\\\\npercentage = yes_votes / total_votes\\\\n\\'{:+9} YES votes  {:2.3%}\\'.format(yes_votes, percentage)\", \"yes_votes = -42_572_654\\\\ntotal_votes = 85_705_149\\\\npercentage = yes_votes / total_votes\\\\n\\'{:9} YES votes  {:2.3%}\\'.format(yes_votes, percentage)\", \"yes_votes = -42_572_654\\\\ntotal_votes = 85_705_149\\\\npercentage = yes_votes / total_votes\\\\n\\'{:-9} YES votes  {:2.3%}\\'.format(yes_votes, percentage)\", \"yes_votes = -42_572_654\\\\ntotal_votes = 85_705_149\\\\npercentage = yes_votes / total_votes\\\\n\\'{:9} YES votes  {:2.3%}\\'.format(yes_votes, percentage)\", \"yes_votes = -42_572_654\\\\ntotal_votes = 85_705_149\\\\npercentage = yes_votes / total_votes\\\\n\\'{:-9} YES votes  {:2.3%}\\'.format(yes_votes, percentage)\", \"yes_votes = -42_572_654\\\\ntotal_votes = 85_705_149\\\\npercentage = yes_votes / total_votes\\\\n\\'{:d%} YES votes  {:2.3%}\\'.format(yes_votes, percentage)\", \"yes_votes = -42_572_654\\\\ntotal_votes = 85_705_149\\\\npercentage = yes_votes / total_votes\\\\n\\'{d%} YES votes  {:2.3%}\\'.format(yes_votes, percentage)\", \"yes_votes = -42_572_654\\\\ntotal_votes = 85_705_149\\\\npercentage = yes_votes / total_votes\\\\n\\'{:d%} YES votes  {:2.3%}\\'.format(yes_votes, percentage)\", \"yes_votes = -42_572_654\\\\ntotal_votes = 85_705_149\\\\npercentage = yes_votes / total_votes\\\\n\\'{:n%} YES votes  {:2.3%}\\'.format(yes_votes, percentage)\", \"yes_votes = -42_572_654\\\\ntotal_votes = 85_705_149\\\\npercentage = yes_votes / total_votes\\\\n\\'{:} YES votes  {:2.3%}\\'.format(yes_votes, percentage)\", \"yes_votes = -42_572_654\\\\ntotal_votes = 85_705_149\\\\npercentage = yes_votes / total_votes\\\\n\\'{} YES votes  {:2.3%}\\'.format(yes_votes, percentage)\", \"import math\\\\nprint(f\\'The value of pi is approximately {math.pi:.3f}.\\')\", \"import math\\\\nprint(f\\'The value of pi is approximately {math.pi:.8f}.\\')\", \"table = {\\'Sjoerd\\': 4127, \\'Jack\\': 4098, \\'Dcab\\': 7678}\\\\nfor name, phone in table.items():\\\\n    print(f\\'{name:10} ==> {phone:10d}\\')\", \"table = {\\'Sjoerd\\': 4127, \\'Jack\\': 4098, \\'Dcab\\': 7678}\\\\nfor name, phone in table.items():\\\\n    print(f\\'{name:-10} ==> {phone:10d}\\')\", \"table = {\\'Sjoerd\\': 4127, \\'Jack\\': 4098, \\'Dcab\\': 7678}\\\\nfor name, phone in table.items():\\\\n    print(f\\'{name:10} ==> {phone:10d}\\')\", \"bugs = \\'roaches\\'\\\\ncount = 13\\\\narea = \\'living room\\'\\\\nprint(f\\'Debugging {bugs=} {count=} {area=}\\')\", \"# print(\\'{0} and {1}\\'.format(\\'spam\\', \\'eggs\\'))\\\\n\\\\nprint(\\'{1} and {0}\\'.format(\\'spam\\', \\'eggs\\'))\", \"table = {\\'Sjoerd\\': 4127, \\'Jack\\': 4098, \\'Dcab\\': 8637678}\\\\nprint(\\'Jack: {0[Jack]:d}; Sjoerd: {0[Sjoerd]:d}; \\'\\\\n      \\'Dcab: {0[Dcab]:d}\\'.format(table))\", \"table = {\\'Sjoerd\\': 4127, \\'Jack\\': 4098, \\'Dcab\\': 8637678}\\\\nprint(\\'Jack: {[Jack]:d}; Sjoerd: {0[Sjoerd]:d}; \\'\\\\n      \\'Dcab: {0[Dcab]:d}\\'.format(table))\", \"table = {\\'Sjoerd\\': 4127, \\'Jack\\': 4098, \\'Dcab\\': 8637678}\\\\nprint(\\'Jack: {0[Jack]:d}; Sjoerd: {0[Sjoerd]:d}; \\'\\\\n      \\'Dcab: {0[Dcab]:d}\\'.format(table))\", \\'table = {k: str(v) for k, v in vars().items()}\\\\nmessage = \" \".join([f\\\\\\'{k}: \\\\\\' + \\\\\\'{\\\\\\' + k +\\\\\\'};\\\\\\' for k in table.keys()])\\\\nprint(message.format(**table))\\']', '_oh': \"{1: 'Results of the 2016 Referendum', 2: ' 42572654 YES votes  49.67%', 3: '42572654 YES votes  49.67%', 4: ' 42572654 YES votes  49.67%', 5: ' 42572654 YES votes  49.67%', 6: ' 42572654 YES votes  49.67%', 7: '42572654 YES votes  49.67%', 8: ' 42572654 YES votes  49.673%', 9: '042572654 YES votes  49.673%', 10: ' 42572654 YES votes  49.673%', 11: ' 42572654 YES votes  49.673%', 12: ' 42572654 YES votes  49.673%', 13: '42572654 YES votes  49.673%', 14: ' 42572654 YES votes  49.673%', 15: ' 42572654 YES votes  49.673%', 16: ' 42572654 YES votes  49.673%', 17: ' 42572654 YES votes  49.673%', 18: ' 42572654 YES votes  49.673%', 19: ' 42572654 YES votes  49.673%', 20: '-42572654 YES votes  -49.673%', 21: '-42572654 YES votes  -49.673%', 22: '-42572654 YES votes  -49.673%', 23: '+42572654 YES votes  49.673%', 24: '+42572654 YES votes  49.673%', 25: '+42572654 YES votes  49.673%', 26: '+42572654 YES votes  49.673%', 27: '-42572654 YES votes  -49.673%', 28: '-42572654 YES votes  -49.673%', 29: '-42572654 YES votes  -49.673%', 30: '-42572654 YES votes  -49.673%', 35: '-42572654 YES votes  -49.673%', 36: '-42572654 YES votes  -49.673%'}\", '_dh': \"[WindowsPath('C:/Users/55575/PycharmProjects/LearningPython')]\", 'In': '[\\'\\', \"year = 2016\\\\nevent = \\'Referendum\\'\\\\nf\\'Results of the {year} {event}\\'\", \"yes_votes = 42_572_654\\\\ntotal_votes = 85_705_149\\\\npercentage = yes_votes / total_votes\\\\n\\'{:-9} YES votes  {:2.2%}\\'.format(yes_votes, percentage)\", \"yes_votes = 42_572_654\\\\ntotal_votes = 85_705_149\\\\npercentage = yes_votes / total_votes\\\\n\\'{} YES votes  {:2.2%}\\'.format(yes_votes, percentage)\", \"yes_votes = 42_572_654\\\\ntotal_votes = 85_705_149\\\\npercentage = yes_votes / total_votes\\\\n\\'{:-9} YES votes  {:2.2%}\\'.format(yes_votes, percentage)\", \"yes_votes = 42_572_654\\\\ntotal_votes = 85_705_149\\\\npercentage = yes_votes / total_votes\\\\n\\'{:9} YES votes  {:2.2%}\\'.format(yes_votes, percentage)\", \"yes_votes = 42_572_654\\\\ntotal_votes = 85_705_149\\\\npercentage = yes_votes / total_votes\\\\n\\'{:-9} YES votes  {:2.2%}\\'.format(yes_votes, percentage)\", \"yes_votes = 42_572_654\\\\ntotal_votes = 85_705_149\\\\npercentage = yes_votes / total_votes\\\\n\\'{} YES votes  {:2.2%}\\'.format(yes_votes, percentage)\", \"yes_votes = 42_572_654\\\\ntotal_votes = 85_705_149\\\\npercentage = yes_votes / total_votes\\\\n\\'{:-9} YES votes  {:2.3%}\\'.format(yes_votes, percentage)\", \"yes_votes = 42_572_654\\\\ntotal_votes = 85_705_149\\\\npercentage = yes_votes / total_votes\\\\n\\'{:09} YES votes  {:2.3%}\\'.format(yes_votes, percentage)\", \"yes_votes = 42_572_654\\\\ntotal_votes = 85_705_149\\\\npercentage = yes_votes / total_votes\\\\n\\'{:-9} YES votes  {:2.3%}\\'.format(yes_votes, percentage)\", \"yes_votes = 42_572_654\\\\ntotal_votes = 85_705_149\\\\npercentage = yes_votes / total_votes\\\\n\\'{:9} YES votes  {:2.3%}\\'.format(yes_votes, percentage)\", \"yes_votes = 42_572_654\\\\ntotal_votes = 85_705_149\\\\npercentage = yes_votes / total_votes\\\\n\\'{: 9} YES votes  {:2.3%}\\'.format(yes_votes, percentage)\", \"yes_votes = 42_572_654\\\\ntotal_votes = 85_705_149\\\\npercentage = yes_votes / total_votes\\\\n\\'{:7} YES votes  {:2.3%}\\'.format(yes_votes, percentage)\", \"yes_votes = 42_572_654\\\\ntotal_votes = 85_705_149\\\\npercentage = yes_votes / total_votes\\\\n\\'{:-9} YES votes  {:2.3%}\\'.format(yes_votes, percentage)\", \"yes_votes = 42_572_654\\\\ntotal_votes = 85_705_149\\\\npercentage = yes_votes / total_votes\\\\n\\'{:-9} YES votes  {:02.3%}\\'.format(yes_votes, percentage)\", \"yes_votes = 42_572_654\\\\ntotal_votes = 85_705_149\\\\npercentage = yes_votes / total_votes\\\\n\\'{:-9} YES votes  {:3.3%}\\'.format(yes_votes, percentage)\", \"yes_votes = 42_572_654\\\\ntotal_votes = 85_705_149\\\\npercentage = yes_votes / total_votes\\\\n\\'{:-9} YES votes  {:03.3%}\\'.format(yes_votes, percentage)\", \"yes_votes = 42_572_654\\\\ntotal_votes = 85_705_149\\\\npercentage = yes_votes / total_votes\\\\n\\'{:-9} YES votes  {:03.3%}\\'.format(yes_votes, percentage)\", \"yes_votes = 42_572_654\\\\ntotal_votes = 85_705_149\\\\npercentage = yes_votes / total_votes\\\\n\\'{:-9} YES votes  {:2.3%}\\'.format(yes_votes, percentage)\", \"yes_votes = -42_572_654\\\\ntotal_votes = 85_705_149\\\\npercentage = yes_votes / total_votes\\\\n\\'{:-9} YES votes  {:2.3%}\\'.format(yes_votes, percentage)\", \"yes_votes = -42_572_654\\\\ntotal_votes = 85_705_149\\\\npercentage = yes_votes / total_votes\\\\n\\'{:9} YES votes  {:2.3%}\\'.format(yes_votes, percentage)\", \"yes_votes = -42_572_654\\\\ntotal_votes = 85_705_149\\\\npercentage = yes_votes / total_votes\\\\n\\'{:+9} YES votes  {:2.3%}\\'.format(yes_votes, percentage)\", \"yes_votes = 42_572_654\\\\ntotal_votes = 85_705_149\\\\npercentage = yes_votes / total_votes\\\\n\\'{:+9} YES votes  {:2.3%}\\'.format(yes_votes, percentage)\", \"yes_votes = 42_572_654\\\\ntotal_votes = 85_705_149\\\\npercentage = yes_votes / total_votes\\\\n\\'{:+9} YES votes  {:2.3%}\\'.format(yes_votes, percentage)\", \"yes_votes = 42_572_654\\\\ntotal_votes = 85_705_149\\\\npercentage = yes_votes / total_votes\\\\n\\'{:+9} YES votes  {:2.3%}\\'.format(yes_votes, percentage)\", \"yes_votes = 42_572_654\\\\ntotal_votes = 85_705_149\\\\npercentage = yes_votes / total_votes\\\\n\\'{:+9} YES votes  {:2.3%}\\'.format(yes_votes, percentage)\", \"yes_votes = -42_572_654\\\\ntotal_votes = 85_705_149\\\\npercentage = yes_votes / total_votes\\\\n\\'{:9} YES votes  {:2.3%}\\'.format(yes_votes, percentage)\", \"yes_votes = -42_572_654\\\\ntotal_votes = 85_705_149\\\\npercentage = yes_votes / total_votes\\\\n\\'{:-9} YES votes  {:2.3%}\\'.format(yes_votes, percentage)\", \"yes_votes = -42_572_654\\\\ntotal_votes = 85_705_149\\\\npercentage = yes_votes / total_votes\\\\n\\'{:9} YES votes  {:2.3%}\\'.format(yes_votes, percentage)\", \"yes_votes = -42_572_654\\\\ntotal_votes = 85_705_149\\\\npercentage = yes_votes / total_votes\\\\n\\'{:-9} YES votes  {:2.3%}\\'.format(yes_votes, percentage)\", \"yes_votes = -42_572_654\\\\ntotal_votes = 85_705_149\\\\npercentage = yes_votes / total_votes\\\\n\\'{:d%} YES votes  {:2.3%}\\'.format(yes_votes, percentage)\", \"yes_votes = -42_572_654\\\\ntotal_votes = 85_705_149\\\\npercentage = yes_votes / total_votes\\\\n\\'{d%} YES votes  {:2.3%}\\'.format(yes_votes, percentage)\", \"yes_votes = -42_572_654\\\\ntotal_votes = 85_705_149\\\\npercentage = yes_votes / total_votes\\\\n\\'{:d%} YES votes  {:2.3%}\\'.format(yes_votes, percentage)\", \"yes_votes = -42_572_654\\\\ntotal_votes = 85_705_149\\\\npercentage = yes_votes / total_votes\\\\n\\'{:n%} YES votes  {:2.3%}\\'.format(yes_votes, percentage)\", \"yes_votes = -42_572_654\\\\ntotal_votes = 85_705_149\\\\npercentage = yes_votes / total_votes\\\\n\\'{:} YES votes  {:2.3%}\\'.format(yes_votes, percentage)\", \"yes_votes = -42_572_654\\\\ntotal_votes = 85_705_149\\\\npercentage = yes_votes / total_votes\\\\n\\'{} YES votes  {:2.3%}\\'.format(yes_votes, percentage)\", \"import math\\\\nprint(f\\'The value of pi is approximately {math.pi:.3f}.\\')\", \"import math\\\\nprint(f\\'The value of pi is approximately {math.pi:.8f}.\\')\", \"table = {\\'Sjoerd\\': 4127, \\'Jack\\': 4098, \\'Dcab\\': 7678}\\\\nfor name, phone in table.items():\\\\n    print(f\\'{name:10} ==> {phone:10d}\\')\", \"table = {\\'Sjoerd\\': 4127, \\'Jack\\': 4098, \\'Dcab\\': 7678}\\\\nfor name, phone in table.items():\\\\n    print(f\\'{name:-10} ==> {phone:10d}\\')\", \"table = {\\'Sjoerd\\': 4127, \\'Jack\\': 4098, \\'Dcab\\': 7678}\\\\nfor name, phone in table.items():\\\\n    print(f\\'{name:10} ==> {phone:10d}\\')\", \"bugs = \\'roaches\\'\\\\ncount = 13\\\\narea = \\'living room\\'\\\\nprint(f\\'Debugging {bugs=} {count=} {area=}\\')\", \"# print(\\'{0} and {1}\\'.format(\\'spam\\', \\'eggs\\'))\\\\n\\\\nprint(\\'{1} and {0}\\'.format(\\'spam\\', \\'eggs\\'))\", \"table = {\\'Sjoerd\\': 4127, \\'Jack\\': 4098, \\'Dcab\\': 8637678}\\\\nprint(\\'Jack: {0[Jack]:d}; Sjoerd: {0[Sjoerd]:d}; \\'\\\\n      \\'Dcab: {0[Dcab]:d}\\'.format(table))\", \"table = {\\'Sjoerd\\': 4127, \\'Jack\\': 4098, \\'Dcab\\': 8637678}\\\\nprint(\\'Jack: {[Jack]:d}; Sjoerd: {0[Sjoerd]:d}; \\'\\\\n      \\'Dcab: {0[Dcab]:d}\\'.format(table))\", \"table = {\\'Sjoerd\\': 4127, \\'Jack\\': 4098, \\'Dcab\\': 8637678}\\\\nprint(\\'Jack: {0[Jack]:d}; Sjoerd: {0[Sjoerd]:d}; \\'\\\\n      \\'Dcab: {0[Dcab]:d}\\'.format(table))\", \\'table = {k: str(v) for k, v in vars().items()}\\\\nmessage = \" \".join([f\\\\\\'{k}: \\\\\\' + \\\\\\'{\\\\\\' + k +\\\\\\'};\\\\\\' for k in table.keys()])\\\\nprint(message.format(**table))\\']', 'Out': \"{1: 'Results of the 2016 Referendum', 2: ' 42572654 YES votes  49.67%', 3: '42572654 YES votes  49.67%', 4: ' 42572654 YES votes  49.67%', 5: ' 42572654 YES votes  49.67%', 6: ' 42572654 YES votes  49.67%', 7: '42572654 YES votes  49.67%', 8: ' 42572654 YES votes  49.673%', 9: '042572654 YES votes  49.673%', 10: ' 42572654 YES votes  49.673%', 11: ' 42572654 YES votes  49.673%', 12: ' 42572654 YES votes  49.673%', 13: '42572654 YES votes  49.673%', 14: ' 42572654 YES votes  49.673%', 15: ' 42572654 YES votes  49.673%', 16: ' 42572654 YES votes  49.673%', 17: ' 42572654 YES votes  49.673%', 18: ' 42572654 YES votes  49.673%', 19: ' 42572654 YES votes  49.673%', 20: '-42572654 YES votes  -49.673%', 21: '-42572654 YES votes  -49.673%', 22: '-42572654 YES votes  -49.673%', 23: '+42572654 YES votes  49.673%', 24: '+42572654 YES votes  49.673%', 25: '+42572654 YES votes  49.673%', 26: '+42572654 YES votes  49.673%', 27: '-42572654 YES votes  -49.673%', 28: '-42572654 YES votes  -49.673%', 29: '-42572654 YES votes  -49.673%', 30: '-42572654 YES votes  -49.673%', 35: '-42572654 YES votes  -49.673%', 36: '-42572654 YES votes  -49.673%'}\", 'get_ipython': '<bound method InteractiveShell.get_ipython of <ipykernel.zmqshell.ZMQInteractiveShell object at 0x00000227A87B8820>>', 'exit': '<IPython.core.autocall.ZMQExitAutocall object at 0x00000227A87B92D0>', 'quit': '<IPython.core.autocall.ZMQExitAutocall object at 0x00000227A87B92D0>', 'open': '<function open at 0x00000227A717D750>', '_': '-42572654 YES votes  -49.673%', '__': '-42572654 YES votes  -49.673%', '___': '-42572654 YES votes  -49.673%', '__session__': 'io_code.ipynb', '_i': \"table = {'Sjoerd': 4127, 'Jack': 4098, 'Dcab': 8637678}\\nprint('Jack: {0[Jack]:d}; Sjoerd: {0[Sjoerd]:d}; '\\n      'Dcab: {0[Dcab]:d}'.format(table))\", '_ii': \"table = {'Sjoerd': 4127, 'Jack': 4098, 'Dcab': 8637678}\\nprint('Jack: {[Jack]:d}; Sjoerd: {0[Sjoerd]:d}; '\\n      'Dcab: {0[Dcab]:d}'.format(table))\", '_iii': \"table = {'Sjoerd': 4127, 'Jack': 4098, 'Dcab': 8637678}\\nprint('Jack: {0[Jack]:d}; Sjoerd: {0[Sjoerd]:d}; '\\n      'Dcab: {0[Dcab]:d}'.format(table))\", '_i1': \"year = 2016\\nevent = 'Referendum'\\nf'Results of the {year} {event}'\", 'year': '2016', 'event': 'Referendum', '_1': 'Results of the 2016 Referendum', 'sys': \"<module 'sys' (built-in)>\", 'remove_imported_pydev_package': '<function remove_imported_pydev_package at 0x00000227A87BE9E0>', '_pydevd_bundle': \"<module '_pydevd_bundle' from 'C:\\\\\\\\Program Files\\\\\\\\JetBrains\\\\\\\\PyCharm 2024.1.5\\\\\\\\plugins\\\\\\\\python\\\\\\\\helpers\\\\\\\\pydev\\\\\\\\_pydevd_bundle\\\\\\\\__init__.py'>\", 'pydev_jupyter_vars': \"<module 'pydev_jupyter_vars' from 'C:\\\\\\\\Program Files\\\\\\\\JetBrains\\\\\\\\PyCharm 2024.1.5\\\\\\\\plugins\\\\\\\\python\\\\\\\\helpers-pro\\\\\\\\jupyter_debug\\\\\\\\pydev_jupyter_vars.py'>\", '_i2': \"yes_votes = 42_572_654\\ntotal_votes = 85_705_149\\npercentage = yes_votes / total_votes\\n'{:-9} YES votes  {:2.2%}'.format(yes_votes, percentage)\", 'yes_votes': '-42572654', 'total_votes': '85705149', 'percentage': '-0.496733912684756', '_2': ' 42572654 YES votes  49.67%', '_i3': \"yes_votes = 42_572_654\\ntotal_votes = 85_705_149\\npercentage = yes_votes / total_votes\\n'{} YES votes  {:2.2%}'.format(yes_votes, percentage)\", '_3': '42572654 YES votes  49.67%', '_i4': \"yes_votes = 42_572_654\\ntotal_votes = 85_705_149\\npercentage = yes_votes / total_votes\\n'{:-9} YES votes  {:2.2%}'.format(yes_votes, percentage)\", '_4': ' 42572654 YES votes  49.67%', '_i5': \"yes_votes = 42_572_654\\ntotal_votes = 85_705_149\\npercentage = yes_votes / total_votes\\n'{:9} YES votes  {:2.2%}'.format(yes_votes, percentage)\", '_5': ' 42572654 YES votes  49.67%', '_i6': \"yes_votes = 42_572_654\\ntotal_votes = 85_705_149\\npercentage = yes_votes / total_votes\\n'{:-9} YES votes  {:2.2%}'.format(yes_votes, percentage)\", '_6': ' 42572654 YES votes  49.67%', '_i7': \"yes_votes = 42_572_654\\ntotal_votes = 85_705_149\\npercentage = yes_votes / total_votes\\n'{} YES votes  {:2.2%}'.format(yes_votes, percentage)\", '_7': '42572654 YES votes  49.67%', '_i8': \"yes_votes = 42_572_654\\ntotal_votes = 85_705_149\\npercentage = yes_votes / total_votes\\n'{:-9} YES votes  {:2.3%}'.format(yes_votes, percentage)\", '_8': ' 42572654 YES votes  49.673%', '_i9': \"yes_votes = 42_572_654\\ntotal_votes = 85_705_149\\npercentage = yes_votes / total_votes\\n'{:09} YES votes  {:2.3%}'.format(yes_votes, percentage)\", '_9': '042572654 YES votes  49.673%', '_i10': \"yes_votes = 42_572_654\\ntotal_votes = 85_705_149\\npercentage = yes_votes / total_votes\\n'{:-9} YES votes  {:2.3%}'.format(yes_votes, percentage)\", '_10': ' 42572654 YES votes  49.673%', '_i11': \"yes_votes = 42_572_654\\ntotal_votes = 85_705_149\\npercentage = yes_votes / total_votes\\n'{:9} YES votes  {:2.3%}'.format(yes_votes, percentage)\", '_11': ' 42572654 YES votes  49.673%', '_i12': \"yes_votes = 42_572_654\\ntotal_votes = 85_705_149\\npercentage = yes_votes / total_votes\\n'{: 9} YES votes  {:2.3%}'.format(yes_votes, percentage)\", '_12': ' 42572654 YES votes  49.673%', '_i13': \"yes_votes = 42_572_654\\ntotal_votes = 85_705_149\\npercentage = yes_votes / total_votes\\n'{:7} YES votes  {:2.3%}'.format(yes_votes, percentage)\", '_13': '42572654 YES votes  49.673%', '_i14': \"yes_votes = 42_572_654\\ntotal_votes = 85_705_149\\npercentage = yes_votes / total_votes\\n'{:-9} YES votes  {:2.3%}'.format(yes_votes, percentage)\", '_14': ' 42572654 YES votes  49.673%', '_i15': \"yes_votes = 42_572_654\\ntotal_votes = 85_705_149\\npercentage = yes_votes / total_votes\\n'{:-9} YES votes  {:02.3%}'.format(yes_votes, percentage)\", '_15': ' 42572654 YES votes  49.673%', '_i16': \"yes_votes = 42_572_654\\ntotal_votes = 85_705_149\\npercentage = yes_votes / total_votes\\n'{:-9} YES votes  {:3.3%}'.format(yes_votes, percentage)\", '_16': ' 42572654 YES votes  49.673%', '_i17': \"yes_votes = 42_572_654\\ntotal_votes = 85_705_149\\npercentage = yes_votes / total_votes\\n'{:-9} YES votes  {:03.3%}'.format(yes_votes, percentage)\", '_17': ' 42572654 YES votes  49.673%', '_i18': \"yes_votes = 42_572_654\\ntotal_votes = 85_705_149\\npercentage = yes_votes / total_votes\\n'{:-9} YES votes  {:03.3%}'.format(yes_votes, percentage)\", '_18': ' 42572654 YES votes  49.673%', '_i19': \"yes_votes = 42_572_654\\ntotal_votes = 85_705_149\\npercentage = yes_votes / total_votes\\n'{:-9} YES votes  {:2.3%}'.format(yes_votes, percentage)\", '_19': ' 42572654 YES votes  49.673%', '_i20': \"yes_votes = -42_572_654\\ntotal_votes = 85_705_149\\npercentage = yes_votes / total_votes\\n'{:-9} YES votes  {:2.3%}'.format(yes_votes, percentage)\", '_20': '-42572654 YES votes  -49.673%', '_i21': \"yes_votes = -42_572_654\\ntotal_votes = 85_705_149\\npercentage = yes_votes / total_votes\\n'{:9} YES votes  {:2.3%}'.format(yes_votes, percentage)\", '_21': '-42572654 YES votes  -49.673%', '_i22': \"yes_votes = -42_572_654\\ntotal_votes = 85_705_149\\npercentage = yes_votes / total_votes\\n'{:+9} YES votes  {:2.3%}'.format(yes_votes, percentage)\", '_22': '-42572654 YES votes  -49.673%', '_i23': \"yes_votes = 42_572_654\\ntotal_votes = 85_705_149\\npercentage = yes_votes / total_votes\\n'{:+9} YES votes  {:2.3%}'.format(yes_votes, percentage)\", '_23': '+42572654 YES votes  49.673%', '_i24': \"yes_votes = 42_572_654\\ntotal_votes = 85_705_149\\npercentage = yes_votes / total_votes\\n'{:+9} YES votes  {:2.3%}'.format(yes_votes, percentage)\", '_24': '+42572654 YES votes  49.673%', '_i25': \"yes_votes = 42_572_654\\ntotal_votes = 85_705_149\\npercentage = yes_votes / total_votes\\n'{:+9} YES votes  {:2.3%}'.format(yes_votes, percentage)\", '_25': '+42572654 YES votes  49.673%', '_i26': \"yes_votes = 42_572_654\\ntotal_votes = 85_705_149\\npercentage = yes_votes / total_votes\\n'{:+9} YES votes  {:2.3%}'.format(yes_votes, percentage)\", '_26': '+42572654 YES votes  49.673%', '_i27': \"yes_votes = -42_572_654\\ntotal_votes = 85_705_149\\npercentage = yes_votes / total_votes\\n'{:9} YES votes  {:2.3%}'.format(yes_votes, percentage)\", '_27': '-42572654 YES votes  -49.673%', '_i28': \"yes_votes = -42_572_654\\ntotal_votes = 85_705_149\\npercentage = yes_votes / total_votes\\n'{:-9} YES votes  {:2.3%}'.format(yes_votes, percentage)\", '_28': '-42572654 YES votes  -49.673%', '_i29': \"yes_votes = -42_572_654\\ntotal_votes = 85_705_149\\npercentage = yes_votes / total_votes\\n'{:9} YES votes  {:2.3%}'.format(yes_votes, percentage)\", '_29': '-42572654 YES votes  -49.673%', '_i30': \"yes_votes = -42_572_654\\ntotal_votes = 85_705_149\\npercentage = yes_votes / total_votes\\n'{:-9} YES votes  {:2.3%}'.format(yes_votes, percentage)\", '_30': '-42572654 YES votes  -49.673%', '_i31': \"yes_votes = -42_572_654\\ntotal_votes = 85_705_149\\npercentage = yes_votes / total_votes\\n'{:d%} YES votes  {:2.3%}'.format(yes_votes, percentage)\", '_i32': \"yes_votes = -42_572_654\\ntotal_votes = 85_705_149\\npercentage = yes_votes / total_votes\\n'{d%} YES votes  {:2.3%}'.format(yes_votes, percentage)\", '_i33': \"yes_votes = -42_572_654\\ntotal_votes = 85_705_149\\npercentage = yes_votes / total_votes\\n'{:d%} YES votes  {:2.3%}'.format(yes_votes, percentage)\", '_i34': \"yes_votes = -42_572_654\\ntotal_votes = 85_705_149\\npercentage = yes_votes / total_votes\\n'{:n%} YES votes  {:2.3%}'.format(yes_votes, percentage)\", '_i35': \"yes_votes = -42_572_654\\ntotal_votes = 85_705_149\\npercentage = yes_votes / total_votes\\n'{:} YES votes  {:2.3%}'.format(yes_votes, percentage)\", '_35': '-42572654 YES votes  -49.673%', '_i36': \"yes_votes = -42_572_654\\ntotal_votes = 85_705_149\\npercentage = yes_votes / total_votes\\n'{} YES votes  {:2.3%}'.format(yes_votes, percentage)\", '_36': '-42572654 YES votes  -49.673%', '_i37': \"import math\\nprint(f'The value of pi is approximately {math.pi:.3f}.')\", 'math': \"<module 'math' (built-in)>\", '_i38': \"import math\\nprint(f'The value of pi is approximately {math.pi:.8f}.')\", '_i39': \"table = {'Sjoerd': 4127, 'Jack': 4098, 'Dcab': 7678}\\nfor name, phone in table.items():\\n    print(f'{name:10} ==> {phone:10d}')\", 'table': \"{'Sjoerd': 4127, 'Jack': 4098, 'Dcab': 8637678}\", 'name': 'Dcab', 'phone': '7678', '_i40': \"table = {'Sjoerd': 4127, 'Jack': 4098, 'Dcab': 7678}\\nfor name, phone in table.items():\\n    print(f'{name:-10} ==> {phone:10d}')\", '_i41': \"table = {'Sjoerd': 4127, 'Jack': 4098, 'Dcab': 7678}\\nfor name, phone in table.items():\\n    print(f'{name:10} ==> {phone:10d}')\", '_i42': \"bugs = 'roaches'\\ncount = 13\\narea = 'living room'\\nprint(f'Debugging {bugs=} {count=} {area=}')\", 'bugs': 'roaches', 'count': '13', 'area': 'living room', '_i43': \"# print('{0} and {1}'.format('spam', 'eggs'))\\n\\nprint('{1} and {0}'.format('spam', 'eggs'))\", '_i44': \"table = {'Sjoerd': 4127, 'Jack': 4098, 'Dcab': 8637678}\\nprint('Jack: {0[Jack]:d}; Sjoerd: {0[Sjoerd]:d}; '\\n      'Dcab: {0[Dcab]:d}'.format(table))\", '_i45': \"table = {'Sjoerd': 4127, 'Jack': 4098, 'Dcab': 8637678}\\nprint('Jack: {[Jack]:d}; Sjoerd: {0[Sjoerd]:d}; '\\n      'Dcab: {0[Dcab]:d}'.format(table))\", '_i46': \"table = {'Sjoerd': 4127, 'Jack': 4098, 'Dcab': 8637678}\\nprint('Jack: {0[Jack]:d}; Sjoerd: {0[Sjoerd]:d}; '\\n      'Dcab: {0[Dcab]:d}'.format(table))\", '_i47': 'table = {k: str(v) for k, v in vars().items()}\\nmessage = \" \".join([f\\'{k}: \\' + \\'{\\' + k +\\'};\\' for k in table.keys()])\\nprint(message.format(**table))'}; name: Dcab; phone: 7678; _i40: table = {'Sjoerd': 4127, 'Jack': 4098, 'Dcab': 7678}\n",
      "for name, phone in table.items():\n",
      "    print(f'{name:-10} ==> {phone:10d}'); _i41: table = {'Sjoerd': 4127, 'Jack': 4098, 'Dcab': 7678}\n",
      "for name, phone in table.items():\n",
      "    print(f'{name:10} ==> {phone:10d}'); _i42: bugs = 'roaches'\n",
      "count = 13\n",
      "area = 'living room'\n",
      "print(f'Debugging {bugs=} {count=} {area=}'); bugs: roaches; count: 13; area: living room; _i43: # print('{0} and {1}'.format('spam', 'eggs'))\n",
      "\n",
      "print('{1} and {0}'.format('spam', 'eggs')); _i44: table = {'Sjoerd': 4127, 'Jack': 4098, 'Dcab': 8637678}\n",
      "print('Jack: {0[Jack]:d}; Sjoerd: {0[Sjoerd]:d}; '\n",
      "      'Dcab: {0[Dcab]:d}'.format(table)); _i45: table = {'Sjoerd': 4127, 'Jack': 4098, 'Dcab': 8637678}\n",
      "print('Jack: {[Jack]:d}; Sjoerd: {0[Sjoerd]:d}; '\n",
      "      'Dcab: {0[Dcab]:d}'.format(table)); _i46: table = {'Sjoerd': 4127, 'Jack': 4098, 'Dcab': 8637678}\n",
      "print('Jack: {0[Jack]:d}; Sjoerd: {0[Sjoerd]:d}; '\n",
      "      'Dcab: {0[Dcab]:d}'.format(table)); _i47: table = {k: str(v) for k, v in vars().items()}\n",
      "message = \" \".join([f'{k}: ' + '{' + k +'};' for k in table.keys()])\n",
      "print(message.format(**table)); message: __name__: {__name__}; __doc__: {__doc__}; __package__: {__package__}; __loader__: {__loader__}; __spec__: {__spec__}; __builtin__: {__builtin__}; __builtins__: {__builtins__}; _ih: {_ih}; _oh: {_oh}; _dh: {_dh}; In: {In}; Out: {Out}; get_ipython: {get_ipython}; exit: {exit}; quit: {quit}; open: {open}; _: {_}; __: {__}; ___: {___}; __session__: {__session__}; _i: {_i}; _ii: {_ii}; _iii: {_iii}; _i1: {_i1}; year: {year}; event: {event}; _1: {_1}; sys: {sys}; remove_imported_pydev_package: {remove_imported_pydev_package}; _pydevd_bundle: {_pydevd_bundle}; pydev_jupyter_vars: {pydev_jupyter_vars}; _i2: {_i2}; yes_votes: {yes_votes}; total_votes: {total_votes}; percentage: {percentage}; _2: {_2}; _i3: {_i3}; _3: {_3}; _i4: {_i4}; _4: {_4}; _i5: {_i5}; _5: {_5}; _i6: {_i6}; _6: {_6}; _i7: {_i7}; _7: {_7}; _i8: {_i8}; _8: {_8}; _i9: {_i9}; _9: {_9}; _i10: {_i10}; _10: {_10}; _i11: {_i11}; _11: {_11}; _i12: {_i12}; _12: {_12}; _i13: {_i13}; _13: {_13}; _i14: {_i14}; _14: {_14}; _i15: {_i15}; _15: {_15}; _i16: {_i16}; _16: {_16}; _i17: {_i17}; _17: {_17}; _i18: {_i18}; _18: {_18}; _i19: {_i19}; _19: {_19}; _i20: {_i20}; _20: {_20}; _i21: {_i21}; _21: {_21}; _i22: {_i22}; _22: {_22}; _i23: {_i23}; _23: {_23}; _i24: {_i24}; _24: {_24}; _i25: {_i25}; _25: {_25}; _i26: {_i26}; _26: {_26}; _i27: {_i27}; _27: {_27}; _i28: {_i28}; _28: {_28}; _i29: {_i29}; _29: {_29}; _i30: {_i30}; _30: {_30}; _i31: {_i31}; _i32: {_i32}; _i33: {_i33}; _i34: {_i34}; _i35: {_i35}; _35: {_35}; _i36: {_i36}; _36: {_36}; _i37: {_i37}; math: {math}; _i38: {_i38}; _i39: {_i39}; table: {table}; name: {name}; phone: {phone}; _i40: {_i40}; _i41: {_i41}; _i42: {_i42}; bugs: {bugs}; count: {count}; area: {area}; _i43: {_i43}; _i44: {_i44}; _i45: {_i45}; _i46: {_i46}; _i47: {_i47};; _i48: table = {k: str(v) for k, v in vars().items()}\n",
      "message = \" \".join([f'{k}: ' + '{' + k +'};' for k in table.keys()])\n",
      "print(message.format(**table));\n"
     ]
    }
   ],
   "execution_count": 48
  }
 ],
 "metadata": {
  "kernelspec": {
   "display_name": "Python 3",
   "language": "python",
   "name": "python3"
  },
  "language_info": {
   "codemirror_mode": {
    "name": "ipython",
    "version": 2
   },
   "file_extension": ".py",
   "mimetype": "text/x-python",
   "name": "python",
   "nbconvert_exporter": "python",
   "pygments_lexer": "ipython2",
   "version": "2.7.6"
  }
 },
 "nbformat": 4,
 "nbformat_minor": 5
}

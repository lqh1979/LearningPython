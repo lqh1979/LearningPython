{
 "cells": [
  {
   "cell_type": "code",
   "id": "initial_id",
   "metadata": {
    "collapsed": true,
    "ExecuteTime": {
     "end_time": "2025-01-06T04:23:57.019329Z",
     "start_time": "2025-01-06T04:23:57.004437Z"
    }
   },
   "source": [
    "def http_error(status):\n",
    "    match status:  # 类似于 C、Java 或 JavaScript（以及许多其他语言）中的 switch 语句\n",
    "        case 400:\n",
    "            return \"Bad request\"\n",
    "        case 404 | 505:  # 多个\n",
    "            return \"Not found\"\n",
    "        case 418:\n",
    "            return \"I'm a teapot\"\n",
    "        case _:  # “变量名”_充当通配符，永远不会匹配失败。如果没有匹配的案例，则不会执行任何分支。\n",
    "            return \"Something's wrong with the internet\"\n",
    "\n",
    "\n",
    "http_error(405)"
   ],
   "outputs": [
    {
     "data": {
      "text/plain": [
       "\"Something's wrong with the internet\""
      ]
     },
     "execution_count": 4,
     "metadata": {},
     "output_type": "execute_result"
    }
   ],
   "execution_count": 4
  },
  {
   "metadata": {
    "ExecuteTime": {
     "end_time": "2025-01-06T04:26:14.285462Z",
     "start_time": "2025-01-06T04:26:14.265477Z"
    }
   },
   "cell_type": "code",
   "source": [
    "# point is an (x, y) tuple\n",
    "point = (1, 2)\n",
    "match point:\n",
    "    case (0, 0):\n",
    "        print(\"Origin\")\n",
    "    case (0, y):\n",
    "        print(f\"Y={y}\")\n",
    "    case (x, 0):\n",
    "        print(f\"X={x}\")\n",
    "    case (x, y):\n",
    "        print(f\"X={x}, Y={y}\")\n",
    "    case _:\n",
    "        raise ValueError(\"Not a point\")\n",
    "\n"
   ],
   "id": "b15f684cfda7179f",
   "outputs": [
    {
     "name": "stdout",
     "output_type": "stream",
     "text": [
      "X=1, Y=2\n"
     ]
    }
   ],
   "execution_count": 7
  },
  {
   "metadata": {
    "ExecuteTime": {
     "end_time": "2025-01-06T04:53:40.011016Z",
     "start_time": "2025-01-06T04:53:39.994189Z"
    }
   },
   "cell_type": "code",
   "source": [
    "class Point:\n",
    "    __match_args__ = ('x', 'y')\n",
    "\n",
    "    def __init__(self, x, y):\n",
    "        self.x = x\n",
    "        self.y = y\n",
    "\n",
    "\n",
    "def where_is(points):\n",
    "    match points:\n",
    "        case []:\n",
    "            print(\"No points\")\n",
    "        case [Point(0, 0)]:\n",
    "            print(\"The origin\")\n",
    "        case [Point(x, y)] if x == y == 1:\n",
    "            print(f\"Single point {x}, {y}\")\n",
    "        case [Point(0, y1), Point(0, y2)]:\n",
    "            print(f\"Two on the Y axis at {y1}, {y2}\")\n",
    "        case _:\n",
    "            print(\"Something else\")\n",
    "\n",
    "\n",
    "where_is([Point(0, 3), Point(0, 1)])"
   ],
   "id": "fb395df7fff6e48b",
   "outputs": [
    {
     "name": "stdout",
     "output_type": "stream",
     "text": [
      "Two on the Y axis at 3, 1\n"
     ]
    }
   ],
   "execution_count": 32
  },
  {
   "metadata": {
    "ExecuteTime": {
     "end_time": "2025-01-06T04:58:14.416718Z",
     "start_time": "2025-01-06T04:58:14.401528Z"
    }
   },
   "cell_type": "code",
   "source": [
    "def fib2(n):  # return Fibonacci series up to n\n",
    "    \"\"\"Return a list containing the Fibonacci series up to n.\"\"\"\n",
    "    result = []\n",
    "    a, b = 0, 1\n",
    "    while a < n:\n",
    "        result.append(a)  # see below\n",
    "        a, b = b, a + b\n",
    "    return result\n",
    "\n",
    "\n",
    "f100 = fib2(100)  # call it\n",
    "f100  # write the resul"
   ],
   "id": "ce028fe70ace8624",
   "outputs": [
    {
     "data": {
      "text/plain": [
       "[0, 1, 1, 2, 3, 5, 8, 13, 21, 34, 55, 89]"
      ]
     },
     "execution_count": 37,
     "metadata": {},
     "output_type": "execute_result"
    }
   ],
   "execution_count": 37
  },
  {
   "metadata": {
    "ExecuteTime": {
     "end_time": "2025-01-06T05:03:56.918298Z",
     "start_time": "2025-01-06T05:03:54.551367Z"
    }
   },
   "cell_type": "code",
   "source": [
    "def ask_ok(prompt, retries=4, reminder='Please try again!'):\n",
    "    while True:\n",
    "        reply = input(prompt)\n",
    "        if reply in {'y', 'ye', 'yes'}:\n",
    "            return True\n",
    "        if reply in {'n', 'no', 'nop', 'nope'}:\n",
    "            return False\n",
    "        retries = retries - 1\n",
    "        if retries < 0:\n",
    "            raise ValueError('invalid user response')\n",
    "        print(reminder)\n",
    "\n",
    "\n",
    "ask_ok(prompt='Do you really want to quit?', retries=2)"
   ],
   "id": "f08c4c3628b0bc2b",
   "outputs": [
    {
     "data": {
      "text/plain": [
       "True"
      ]
     },
     "execution_count": 43,
     "metadata": {},
     "output_type": "execute_result"
    }
   ],
   "execution_count": 43
  },
  {
   "metadata": {
    "ExecuteTime": {
     "end_time": "2025-01-06T05:05:50.470363Z",
     "start_time": "2025-01-06T05:05:50.458106Z"
    }
   },
   "cell_type": "code",
   "source": [
    "# 默认值在定义范围内的函数定义点处进行评估\n",
    "i = 5\n",
    "\n",
    "\n",
    "def f(arg=i):\n",
    "    print(arg)\n",
    "\n",
    "\n",
    "i = 6\n",
    "f()\n"
   ],
   "id": "4fbb9a92c78e7152",
   "outputs": [
    {
     "name": "stdout",
     "output_type": "stream",
     "text": [
      "5\n"
     ]
    }
   ],
   "execution_count": 44
  },
  {
   "metadata": {
    "ExecuteTime": {
     "end_time": "2025-01-06T05:09:04.464377Z",
     "start_time": "2025-01-06T05:09:04.457200Z"
    }
   },
   "cell_type": "code",
   "source": [
    "# 默认值仅被评估一次。当默认值是可变对象（例如列表、字典或大多数类的实例）时，情况会有所不同。例如，以下函数会在后续调用中累积传递给它的参数\n",
    "def f(a, L=[]):\n",
    "    L.append(a)\n",
    "    return L\n",
    "\n",
    "\n",
    "print(f(1))\n",
    "print(f(2))\n",
    "print(f(3))"
   ],
   "id": "a9593e33cfaca828",
   "outputs": [
    {
     "name": "stdout",
     "output_type": "stream",
     "text": [
      "[1]\n",
      "[1, 2]\n",
      "[1, 2, 3]\n"
     ]
    }
   ],
   "execution_count": 45
  },
  {
   "metadata": {
    "ExecuteTime": {
     "end_time": "2025-01-06T05:09:27.519946Z",
     "start_time": "2025-01-06T05:09:27.505287Z"
    }
   },
   "cell_type": "code",
   "source": [
    "# 如果您不希望在后续调用之间共享默认值，则可以像这样编写函数：\n",
    "def f(a, L=None):\n",
    "    if L is None:\n",
    "        L = []\n",
    "    L.append(a)\n",
    "    return L\n",
    "\n",
    "\n",
    "print(f(1))\n",
    "print(f(2))\n",
    "print(f(3))"
   ],
   "id": "52d706c401863022",
   "outputs": [
    {
     "name": "stdout",
     "output_type": "stream",
     "text": [
      "[1]\n",
      "[2]\n",
      "[3]\n"
     ]
    }
   ],
   "execution_count": 46
  },
  {
   "metadata": {
    "ExecuteTime": {
     "end_time": "2025-01-06T05:20:41.894089Z",
     "start_time": "2025-01-06T05:20:41.883203Z"
    }
   },
   "cell_type": "code",
   "source": [
    "# 关键字参数必须在位置参数之后传递\n",
    "def parrot(voltage, state='a stiff', action='voom'):\n",
    "    print(\"-- This parrot wouldn't\", action, end=' ')\n",
    "    print(\"if you put\", voltage, \"volts through it.\")\n",
    "    print(\"E's\", state, \"!\")\n",
    "\n",
    "\n",
    "parrot(voltage=1000)\n",
    "parrot(voltage=1000, action='VOOOOOM')\n",
    "parrot(1000)\n",
    "parrot(action='VOOOOOM', voltage=1000)"
   ],
   "id": "7d95ebb93e5ecafc",
   "outputs": [
    {
     "name": "stdout",
     "output_type": "stream",
     "text": [
      "-- This parrot wouldn't voom if you put 1000 volts through it.\n",
      "E's a stiff !\n",
      "-- This parrot wouldn't VOOOOOM if you put 1000 volts through it.\n",
      "E's a stiff !\n",
      "-- This parrot wouldn't voom if you put 1000 volts through it.\n",
      "E's a stiff !\n",
      "-- This parrot wouldn't VOOOOOM if you put 1000 volts through it.\n",
      "E's a stiff !\n"
     ]
    }
   ],
   "execution_count": 52
  },
  {
   "metadata": {},
   "cell_type": "raw",
   "source": [
    "特殊参数：/和*是可选的。如果使用这些符号，它们将根据参数传递给函数的方式指示参数的类型：仅位置参数、位置或关键字参数和仅关键字参数。关键字参数也称为命名参数\n",
    "def f(pos1, pos2, /, pos_or_kwd, *, kwd1, kwd2):\n",
    "      -----------    ----------     ----------\n",
    "        |             |                  |\n",
    "        |        Positional or keyword   |\n",
    "        |                                - Keyword only\n",
    "         -- Positional only"
   ],
   "id": "355d6d263cb3d70c"
  },
  {
   "metadata": {
    "ExecuteTime": {
     "end_time": "2025-01-06T05:43:41.007233Z",
     "start_time": "2025-01-06T05:43:40.999707Z"
    }
   },
   "cell_type": "code",
   "source": [
    "# 特殊参数\n",
    "def standard_arg(arg):\n",
    "    print(arg)\n",
    "\n",
    "\n",
    "def pos_only_arg(arg, /):\n",
    "    print(arg)\n",
    "\n",
    "\n",
    "def kwd_only_arg(*, arg):\n",
    "    print(arg)\n",
    "\n",
    "\n",
    "def combined_example(pos_only, /, standard, *, kwd_only):\n",
    "    print(pos_only, standard, kwd_only)\n",
    "\n",
    "\n",
    "standard_arg(11)\n",
    "standard_arg(arg=1)\n",
    "\n",
    "pos_only_arg(1)\n",
    "# pos_only_arg(arg=1)\n",
    "\n",
    "kwd_only_arg(arg=3)\n",
    "# kwd_only_arg(3)\n",
    "\n",
    "# combined_example(1, 2, 3)\n",
    "combined_example(1, 2, kwd_only=3)\n",
    "combined_example(1, standard=2, kwd_only=3)\n",
    "combined_example(1, standard=2, kwd_only=3)"
   ],
   "id": "f72a0a0831892d6",
   "outputs": [
    {
     "name": "stdout",
     "output_type": "stream",
     "text": [
      "11\n",
      "1\n",
      "1\n",
      "3\n",
      "1 2 3\n",
      "1 2 3\n",
      "1 2 3\n"
     ]
    }
   ],
   "execution_count": 67
  },
  {
   "metadata": {
    "ExecuteTime": {
     "end_time": "2025-01-06T05:49:35.711076Z",
     "start_time": "2025-01-06T05:49:35.698678Z"
    }
   },
   "cell_type": "code",
   "source": [
    "#  参数解包\n",
    "# list(range(3, 6))            # normal call with separate arguments\n",
    "# args = [3, 6]\n",
    "args = (3, 6)\n",
    "list(range(*args))  #以将参数从列表或元组中解包"
   ],
   "id": "ce26f1ad6f92414",
   "outputs": [
    {
     "data": {
      "text/plain": [
       "[3, 4, 5]"
      ]
     },
     "execution_count": 72,
     "metadata": {},
     "output_type": "execute_result"
    }
   ],
   "execution_count": 72
  },
  {
   "metadata": {
    "ExecuteTime": {
     "end_time": "2025-01-06T05:52:18.798326Z",
     "start_time": "2025-01-06T05:52:18.786630Z"
    }
   },
   "cell_type": "code",
   "source": [
    "# lambda小型匿名函数\n",
    "def make_incrementor(n):\n",
    "    return lambda x: x + n\n",
    "\n",
    "\n",
    "f = make_incrementor(4)\n",
    "f(10)"
   ],
   "id": "ae6158f415d40979",
   "outputs": [
    {
     "data": {
      "text/plain": [
       "14"
      ]
     },
     "execution_count": 75,
     "metadata": {},
     "output_type": "execute_result"
    }
   ],
   "execution_count": 75
  },
  {
   "metadata": {
    "ExecuteTime": {
     "end_time": "2025-01-06T05:57:36.703639Z",
     "start_time": "2025-01-06T05:57:36.697460Z"
    }
   },
   "cell_type": "code",
   "source": [
    "pairs = [(1, 'one'), (2, 'two'), (3, 'three'), (4, 'four')]\n",
    "pairs.sort(key=lambda x: x[1], reverse=True)\n",
    "pairs"
   ],
   "id": "3fb9c69cf259f352",
   "outputs": [
    {
     "data": {
      "text/plain": [
       "[(2, 'two'), (3, 'three'), (1, 'one'), (4, 'four')]"
      ]
     },
     "execution_count": 80,
     "metadata": {},
     "output_type": "execute_result"
    }
   ],
   "execution_count": 80
  },
  {
   "metadata": {
    "ExecuteTime": {
     "end_time": "2025-01-06T05:58:25.932009Z",
     "start_time": "2025-01-06T05:58:25.914164Z"
    }
   },
   "cell_type": "code",
   "source": [
    "# 文档字符串\n",
    "def my_function():\n",
    "    \"\"\"Do nothing, but document it.\n",
    "\n",
    "    No, really, it doesn't do anything.\n",
    "    \"\"\"\n",
    "    pass\n",
    "\n",
    "\n",
    "print(my_function.__doc__)"
   ],
   "id": "468e8a035ac34d10",
   "outputs": [
    {
     "name": "stdout",
     "output_type": "stream",
     "text": [
      "Do nothing, but document it.\n",
      "\n",
      "    No, really, it doesn't do anything.\n",
      "    \n"
     ]
    }
   ],
   "execution_count": 81
  },
  {
   "metadata": {
    "ExecuteTime": {
     "end_time": "2025-01-06T06:03:38.596798Z",
     "start_time": "2025-01-06T06:03:38.578233Z"
    }
   },
   "cell_type": "code",
   "source": [
    "# 函数注解\n",
    "def f(ham: str, eggs: str = 'eggs') -> str:\n",
    "    print(\"Annotations:\", f.__annotations__)\n",
    "    print(\"Arguments:\", ham, eggs)\n",
    "    return ham + ' and ' + eggs\n",
    "\n",
    "\n",
    "f('spam', eggs=\"eggs\")"
   ],
   "id": "fff025dbebad581a",
   "outputs": [
    {
     "name": "stdout",
     "output_type": "stream",
     "text": [
      "Annotations: {'ham': <class 'str'>, 'eggs': <class 'str'>, 'return': <class 'int'>}\n",
      "Arguments: spam eggs\n"
     ]
    },
    {
     "data": {
      "text/plain": [
       "'spam and eggs'"
      ]
     },
     "execution_count": 96,
     "metadata": {},
     "output_type": "execute_result"
    }
   ],
   "execution_count": 96
  }
 ],
 "metadata": {
  "kernelspec": {
   "display_name": "Python 3",
   "language": "python",
   "name": "python3"
  },
  "language_info": {
   "codemirror_mode": {
    "name": "ipython",
    "version": 2
   },
   "file_extension": ".py",
   "mimetype": "text/x-python",
   "name": "python",
   "nbconvert_exporter": "python",
   "pygments_lexer": "ipython2",
   "version": "2.7.6"
  }
 },
 "nbformat": 4,
 "nbformat_minor": 5
}

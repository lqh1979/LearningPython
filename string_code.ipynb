{
 "cells": [
  {
   "metadata": {},
   "cell_type": "raw",
   "source": [
    "字符串索引，正负索引示意图：\n",
    " +---+---+---+---+---+---+\n",
    " | P | y | t | h | o | n |\n",
    " +---+---+---+---+---+---+\n",
    " 0   1   2   3   4   5   6\n",
    "-6  -5  -4  -3  -2  -1"
   ],
   "id": "28160d3204b8035a"
  },
  {
   "cell_type": "code",
   "id": "initial_id",
   "metadata": {
    "collapsed": true,
    "ExecuteTime": {
     "end_time": "2025-01-06T02:42:48.133089Z",
     "start_time": "2025-01-06T02:42:48.125426Z"
    }
   },
   "source": [
    "word = 'Python'\n",
    "print(word[-2:5])\n",
    "print(word[-2:-1])\n"
   ],
   "outputs": [
    {
     "name": "stdout",
     "output_type": "stream",
     "text": [
      "o\n",
      "o\n"
     ]
    }
   ],
   "execution_count": 6
  },
  {
   "metadata": {},
   "cell_type": "markdown",
   "source": "字符串方法",
   "id": "69dad57fab80869e"
  },
  {
   "metadata": {
    "ExecuteTime": {
     "end_time": "2025-01-06T03:08:48.878186Z",
     "start_time": "2025-01-06T03:08:48.866159Z"
    }
   },
   "cell_type": "code",
   "source": "word='learNing pytHon,haha!'",
   "id": "41bc60a008de2d23",
   "outputs": [],
   "execution_count": 25
  },
  {
   "metadata": {
    "ExecuteTime": {
     "end_time": "2025-01-06T03:10:33.564878Z",
     "start_time": "2025-01-06T03:10:33.544859Z"
    }
   },
   "cell_type": "code",
   "source": [
    "#仅字符串的首字母大写,其余小写\n",
    "word.capitalize()"
   ],
   "id": "3887b6821dfd1801",
   "outputs": [
    {
     "data": {
      "text/plain": [
       "'Learning python,haha!'"
      ]
     },
     "execution_count": 30,
     "metadata": {},
     "output_type": "execute_result"
    }
   ],
   "execution_count": 30
  },
  {
   "metadata": {
    "ExecuteTime": {
     "end_time": "2025-01-06T03:08:45.871524Z",
     "start_time": "2025-01-06T03:08:45.863753Z"
    }
   },
   "cell_type": "code",
   "source": [
    "#字符串中，每个词首字母大写，其余小写\n",
    "word.title()"
   ],
   "id": "590979f0b721e4c7",
   "outputs": [
    {
     "data": {
      "text/plain": [
       "'Learning Python,Haha!'"
      ]
     },
     "execution_count": 24,
     "metadata": {},
     "output_type": "execute_result"
    }
   ],
   "execution_count": 24
  },
  {
   "metadata": {
    "ExecuteTime": {
     "end_time": "2025-01-06T03:08:52.550552Z",
     "start_time": "2025-01-06T03:08:52.532535Z"
    }
   },
   "cell_type": "code",
   "source": "word.casefold()",
   "id": "1bb05e59abb2d57b",
   "outputs": [
    {
     "data": {
      "text/plain": [
       "'learning python,haha!'"
      ]
     },
     "execution_count": 26,
     "metadata": {},
     "output_type": "execute_result"
    }
   ],
   "execution_count": 26
  },
  {
   "metadata": {
    "ExecuteTime": {
     "end_time": "2025-01-06T03:17:49.663365Z",
     "start_time": "2025-01-06T03:17:49.652802Z"
    }
   },
   "cell_type": "code",
   "source": "word.title().center(50,'*')",
   "id": "32531d72323862f2",
   "outputs": [
    {
     "data": {
      "text/plain": [
       "'**************Learning Python,Haha!***************'"
      ]
     },
     "execution_count": 35,
     "metadata": {},
     "output_type": "execute_result"
    }
   ],
   "execution_count": 35
  },
  {
   "metadata": {
    "ExecuteTime": {
     "end_time": "2025-01-06T03:19:34.349575Z",
     "start_time": "2025-01-06T03:19:34.344623Z"
    }
   },
   "cell_type": "code",
   "source": "word.count('n',1,10)",
   "id": "e39a5ed4ae8f0122",
   "outputs": [
    {
     "data": {
      "text/plain": [
       "1"
      ]
     },
     "execution_count": 38,
     "metadata": {},
     "output_type": "execute_result"
    }
   ],
   "execution_count": 38
  },
  {
   "metadata": {
    "ExecuteTime": {
     "end_time": "2025-01-06T03:21:40.943422Z",
     "start_time": "2025-01-06T03:21:40.924085Z"
    }
   },
   "cell_type": "code",
   "source": "word.encode(encoding='utf-8',errors='strict')",
   "id": "7f69a2985a4d8217",
   "outputs": [
    {
     "data": {
      "text/plain": [
       "b'learNing pytHon,haha!'"
      ]
     },
     "execution_count": 41,
     "metadata": {},
     "output_type": "execute_result"
    }
   ],
   "execution_count": 41
  },
  {
   "metadata": {
    "ExecuteTime": {
     "end_time": "2025-01-06T03:26:09.982051Z",
     "start_time": "2025-01-06T03:26:09.967691Z"
    }
   },
   "cell_type": "code",
   "source": "word.endswith('!',0,10)",
   "id": "3cc8a4299f1ca825",
   "outputs": [
    {
     "data": {
      "text/plain": [
       "False"
      ]
     },
     "execution_count": 60,
     "metadata": {},
     "output_type": "execute_result"
    }
   ],
   "execution_count": 60
  },
  {
   "metadata": {
    "ExecuteTime": {
     "end_time": "2025-01-06T03:35:04.584234Z",
     "start_time": "2025-01-06T03:35:04.576987Z"
    }
   },
   "cell_type": "code",
   "source": "\"The sum of {1} + {0} is {2}\".format(1,2,3)",
   "id": "5bd74f8c948e857e",
   "outputs": [
    {
     "data": {
      "text/plain": [
       "'The sum of 2 + 1 is 3'"
      ]
     },
     "execution_count": 68,
     "metadata": {},
     "output_type": "execute_result"
    }
   ],
   "execution_count": 68
  },
  {
   "metadata": {
    "ExecuteTime": {
     "end_time": "2025-01-06T03:38:48.922980Z",
     "start_time": "2025-01-06T03:38:48.915524Z"
    }
   },
   "cell_type": "code",
   "source": "word.index('n',10)",
   "id": "bffca5ddb3c75c37",
   "outputs": [
    {
     "data": {
      "text/plain": [
       "14"
      ]
     },
     "execution_count": 73,
     "metadata": {},
     "output_type": "execute_result"
    }
   ],
   "execution_count": 73
  },
  {
   "metadata": {
    "ExecuteTime": {
     "end_time": "2025-01-06T03:40:14.096391Z",
     "start_time": "2025-01-06T03:40:14.078497Z"
    }
   },
   "cell_type": "code",
   "source": "word.istitle()",
   "id": "73511b377d52409c",
   "outputs": [
    {
     "data": {
      "text/plain": [
       "False"
      ]
     },
     "execution_count": 77,
     "metadata": {},
     "output_type": "execute_result"
    }
   ],
   "execution_count": 77
  },
  {
   "metadata": {
    "ExecuteTime": {
     "end_time": "2025-01-06T03:42:23.122320Z",
     "start_time": "2025-01-06T03:42:23.113265Z"
    }
   },
   "cell_type": "code",
   "source": "\"123\".join('abcd')",
   "id": "f82d90a51fd7ca87",
   "outputs": [
    {
     "data": {
      "text/plain": [
       "'a123b123c123d'"
      ]
     },
     "execution_count": 80,
     "metadata": {},
     "output_type": "execute_result"
    }
   ],
   "execution_count": 80
  },
  {
   "metadata": {
    "ExecuteTime": {
     "end_time": "2025-01-06T03:44:58.713167Z",
     "start_time": "2025-01-06T03:44:58.696567Z"
    }
   },
   "cell_type": "code",
   "source": "word.rsplit('n',1)",
   "id": "34877215ae865590",
   "outputs": [
    {
     "data": {
      "text/plain": [
       "['learNing pytHo', ',haha!']"
      ]
     },
     "execution_count": 84,
     "metadata": {},
     "output_type": "execute_result"
    }
   ],
   "execution_count": 84
  },
  {
   "metadata": {
    "ExecuteTime": {
     "end_time": "2025-01-06T03:45:58.011950Z",
     "start_time": "2025-01-06T03:45:57.999441Z"
    }
   },
   "cell_type": "code",
   "source": "word.rpartition('n')",
   "id": "edf91c0f4b50d213",
   "outputs": [
    {
     "data": {
      "text/plain": [
       "('learNing pytHo', 'n', ',haha!')"
      ]
     },
     "execution_count": 85,
     "metadata": {},
     "output_type": "execute_result"
    }
   ],
   "execution_count": 85
  },
  {
   "metadata": {
    "ExecuteTime": {
     "end_time": "2025-01-06T03:46:47.414599Z",
     "start_time": "2025-01-06T03:46:47.406346Z"
    }
   },
   "cell_type": "code",
   "source": "word.split('n')",
   "id": "292f7175a12954e4",
   "outputs": [
    {
     "data": {
      "text/plain": [
       "['learNi', 'g pytHo', ',haha!']"
      ]
     },
     "execution_count": 86,
     "metadata": {},
     "output_type": "execute_result"
    }
   ],
   "execution_count": 86
  },
  {
   "metadata": {
    "ExecuteTime": {
     "end_time": "2025-01-06T03:50:20.947034Z",
     "start_time": "2025-01-06T03:50:20.929216Z"
    }
   },
   "cell_type": "code",
   "source": "print('%(language)s has %(number).03f quote xtypes.' %{'language': \"Python\", \"number\": 2})",
   "id": "6c73f03d99bcb3cf",
   "outputs": [
    {
     "name": "stdout",
     "output_type": "stream",
     "text": [
      "Python has 2.000 quote types.\n"
     ]
    }
   ],
   "execution_count": 93
  },
  {
   "metadata": {
    "ExecuteTime": {
     "end_time": "2025-01-06T03:53:55.445682Z",
     "start_time": "2025-01-06T03:53:55.436437Z"
    }
   },
   "cell_type": "code",
   "source": "print('%s has %d quote types.' % ('Python', 2))",
   "id": "e1510eaf91a88f60",
   "outputs": [
    {
     "name": "stdout",
     "output_type": "stream",
     "text": [
      "Python has 2 quote types.\n"
     ]
    }
   ],
   "execution_count": 94
  },
  {
   "metadata": {},
   "cell_type": "markdown",
   "source": "列表操作，list",
   "id": "395931b254b6c2c5"
  },
  {
   "metadata": {
    "ExecuteTime": {
     "end_time": "2025-01-06T04:01:22.412252Z",
     "start_time": "2025-01-06T04:01:22.397203Z"
    }
   },
   "cell_type": "code",
   "source": [
    "letters = ['a', 'b', 'c', 'd', 'e', 'f', 'g']\n",
    "letters[2:5] = ['C', 'D', 'E']\n",
    "letters"
   ],
   "id": "7b8c49fb33ced2a5",
   "outputs": [
    {
     "data": {
      "text/plain": [
       "['a', 'b', 'C', 'D', 'E', 'f', 'g']"
      ]
     },
     "execution_count": 103,
     "metadata": {},
     "output_type": "execute_result"
    }
   ],
   "execution_count": 103
  },
  {
   "metadata": {
    "ExecuteTime": {
     "end_time": "2025-01-06T04:01:25.380454Z",
     "start_time": "2025-01-06T04:01:25.363601Z"
    }
   },
   "cell_type": "code",
   "source": [
    "letters[2:5] =[]\n",
    "letters"
   ],
   "id": "84e075a964b06c2d",
   "outputs": [
    {
     "data": {
      "text/plain": [
       "['a', 'b', 'f', 'g']"
      ]
     },
     "execution_count": 104,
     "metadata": {},
     "output_type": "execute_result"
    }
   ],
   "execution_count": 104
  },
  {
   "metadata": {
    "ExecuteTime": {
     "end_time": "2025-01-06T04:18:06.105014Z",
     "start_time": "2025-01-06T04:18:06.086885Z"
    }
   },
   "cell_type": "code",
   "source": "range(10)\n",
   "id": "ff9d5033d9bb6d7e",
   "outputs": [
    {
     "data": {
      "text/plain": [
       "range(0, 10)"
      ]
     },
     "execution_count": 105,
     "metadata": {},
     "output_type": "execute_result"
    }
   ],
   "execution_count": 105
  },
  {
   "metadata": {
    "ExecuteTime": {
     "end_time": "2025-01-06T04:18:38.771356Z",
     "start_time": "2025-01-06T04:18:38.766021Z"
    }
   },
   "cell_type": "code",
   "source": "sum(range(4))",
   "id": "f7c3148d9b72b549",
   "outputs": [
    {
     "data": {
      "text/plain": [
       "6"
      ]
     },
     "execution_count": 106,
     "metadata": {},
     "output_type": "execute_result"
    }
   ],
   "execution_count": 106
  }
 ],
 "metadata": {
  "kernelspec": {
   "display_name": "Python 3",
   "language": "python",
   "name": "python3"
  },
  "language_info": {
   "codemirror_mode": {
    "name": "ipython",
    "version": 2
   },
   "file_extension": ".py",
   "mimetype": "text/x-python",
   "name": "python",
   "nbconvert_exporter": "python",
   "pygments_lexer": "ipython2",
   "version": "2.7.6"
  }
 },
 "nbformat": 4,
 "nbformat_minor": 5
}

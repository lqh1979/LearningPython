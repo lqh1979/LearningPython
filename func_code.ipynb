{
 "cells": [
  {
   "cell_type": "code",
   "id": "initial_id",
   "metadata": {
    "collapsed": true,
    "ExecuteTime": {
     "end_time": "2025-01-06T04:23:57.019329Z",
     "start_time": "2025-01-06T04:23:57.004437Z"
    }
   },
   "source": [
    "def http_error(status):\n",
    "    match status:  # 类似于 C、Java 或 JavaScript（以及许多其他语言）中的 switch 语句\n",
    "        case 400:\n",
    "            return \"Bad request\"\n",
    "        case 404|505: # 多个\n",
    "            return \"Not found\"\n",
    "        case 418:\n",
    "            return \"I'm a teapot\"\n",
    "        case _:  # “变量名”_充当通配符，永远不会匹配失败。如果没有匹配的案例，则不会执行任何分支。\n",
    "            return \"Something's wrong with the internet\"\n",
    "        \n",
    "http_error(405) "
   ],
   "outputs": [
    {
     "data": {
      "text/plain": [
       "\"Something's wrong with the internet\""
      ]
     },
     "execution_count": 4,
     "metadata": {},
     "output_type": "execute_result"
    }
   ],
   "execution_count": 4
  },
  {
   "metadata": {
    "ExecuteTime": {
     "end_time": "2025-01-06T04:26:14.285462Z",
     "start_time": "2025-01-06T04:26:14.265477Z"
    }
   },
   "cell_type": "code",
   "source": [
    "# point is an (x, y) tuple\n",
    "point = (1, 2)\n",
    "match point:\n",
    "    case (0, 0):\n",
    "        print(\"Origin\")\n",
    "    case (0, y):\n",
    "        print(f\"Y={y}\")\n",
    "    case (x, 0):\n",
    "        print(f\"X={x}\")\n",
    "    case (x, y):\n",
    "        print(f\"X={x}, Y={y}\")\n",
    "    case _:\n",
    "        raise ValueError(\"Not a point\")\n",
    "    \n"
   ],
   "id": "b15f684cfda7179f",
   "outputs": [
    {
     "name": "stdout",
     "output_type": "stream",
     "text": [
      "X=1, Y=2\n"
     ]
    }
   ],
   "execution_count": 7
  }
 ],
 "metadata": {
  "kernelspec": {
   "display_name": "Python 3",
   "language": "python",
   "name": "python3"
  },
  "language_info": {
   "codemirror_mode": {
    "name": "ipython",
    "version": 2
   },
   "file_extension": ".py",
   "mimetype": "text/x-python",
   "name": "python",
   "nbconvert_exporter": "python",
   "pygments_lexer": "ipython2",
   "version": "2.7.6"
  }
 },
 "nbformat": 4,
 "nbformat_minor": 5
}

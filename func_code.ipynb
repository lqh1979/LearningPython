{
 "cells": [
  {
   "cell_type": "code",
   "id": "initial_id",
   "metadata": {
    "collapsed": true,
    "ExecuteTime": {
     "end_time": "2025-01-06T04:23:57.019329Z",
     "start_time": "2025-01-06T04:23:57.004437Z"
    }
   },
   "source": [
    "def http_error(status):\n",
    "    match status:  # 类似于 C、Java 或 JavaScript（以及许多其他语言）中的 switch 语句\n",
    "        case 400:\n",
    "            return \"Bad request\"\n",
    "        case 404|505: # 多个\n",
    "            return \"Not found\"\n",
    "        case 418:\n",
    "            return \"I'm a teapot\"\n",
    "        case _:  # “变量名”_充当通配符，永远不会匹配失败。如果没有匹配的案例，则不会执行任何分支。\n",
    "            return \"Something's wrong with the internet\"\n",
    "        \n",
    "http_error(405) "
   ],
   "outputs": [
    {
     "data": {
      "text/plain": [
       "\"Something's wrong with the internet\""
      ]
     },
     "execution_count": 4,
     "metadata": {},
     "output_type": "execute_result"
    }
   ],
   "execution_count": 4
  },
  {
   "metadata": {
    "ExecuteTime": {
     "end_time": "2025-01-06T04:26:14.285462Z",
     "start_time": "2025-01-06T04:26:14.265477Z"
    }
   },
   "cell_type": "code",
   "source": [
    "# point is an (x, y) tuple\n",
    "point = (1, 2)\n",
    "match point:\n",
    "    case (0, 0):\n",
    "        print(\"Origin\")\n",
    "    case (0, y):\n",
    "        print(f\"Y={y}\")\n",
    "    case (x, 0):\n",
    "        print(f\"X={x}\")\n",
    "    case (x, y):\n",
    "        print(f\"X={x}, Y={y}\")\n",
    "    case _:\n",
    "        raise ValueError(\"Not a point\")\n",
    "    \n"
   ],
   "id": "b15f684cfda7179f",
   "outputs": [
    {
     "name": "stdout",
     "output_type": "stream",
     "text": [
      "X=1, Y=2\n"
     ]
    }
   ],
   "execution_count": 7
  },
  {
   "metadata": {
    "ExecuteTime": {
     "end_time": "2025-01-06T04:53:40.011016Z",
     "start_time": "2025-01-06T04:53:39.994189Z"
    }
   },
   "cell_type": "code",
   "source": [
    "class Point:\n",
    "    __match_args__ = ('x', 'y')\n",
    "    def __init__(self, x, y):\n",
    "        self.x = x\n",
    "        self.y = y\n",
    "\n",
    "def where_is(points):\n",
    "    match points:\n",
    "        case []:\n",
    "            print(\"No points\")\n",
    "        case [Point(0, 0)]:\n",
    "            print(\"The origin\")\n",
    "        case [Point(x, y)] if x == y==1:\n",
    "            print(f\"Single point {x}, {y}\")\n",
    "        case [Point(0, y1), Point(0, y2)]:\n",
    "            print(f\"Two on the Y axis at {y1}, {y2}\")\n",
    "        case _:\n",
    "            print(\"Something else\")\n",
    "\n",
    "where_is([Point(0, 3), Point(0, 1)])"
   ],
   "id": "fb395df7fff6e48b",
   "outputs": [
    {
     "name": "stdout",
     "output_type": "stream",
     "text": [
      "Two on the Y axis at 3, 1\n"
     ]
    }
   ],
   "execution_count": 32
  },
  {
   "metadata": {
    "ExecuteTime": {
     "end_time": "2025-01-06T04:58:14.416718Z",
     "start_time": "2025-01-06T04:58:14.401528Z"
    }
   },
   "cell_type": "code",
   "source": [
    "def fib2(n):  # return Fibonacci series up to n\n",
    "    \"\"\"Return a list containing the Fibonacci series up to n.\"\"\"\n",
    "    result = []\n",
    "    a, b = 0, 1\n",
    "    while a < n:\n",
    "        result.append(a)    # see below\n",
    "        a, b = b, a+b\n",
    "    return result\n",
    "\n",
    "f100 = fib2(100)    # call it\n",
    "f100                # write the resul"
   ],
   "id": "ce028fe70ace8624",
   "outputs": [
    {
     "data": {
      "text/plain": [
       "[0, 1, 1, 2, 3, 5, 8, 13, 21, 34, 55, 89]"
      ]
     },
     "execution_count": 37,
     "metadata": {},
     "output_type": "execute_result"
    }
   ],
   "execution_count": 37
  },
  {
   "metadata": {
    "ExecuteTime": {
     "end_time": "2025-01-06T05:03:56.918298Z",
     "start_time": "2025-01-06T05:03:54.551367Z"
    }
   },
   "cell_type": "code",
   "source": [
    "def ask_ok(prompt, retries=4, reminder='Please try again!'):\n",
    "    while True:\n",
    "        reply = input(prompt)\n",
    "        if reply in {'y', 'ye', 'yes'}:\n",
    "            return True\n",
    "        if reply in {'n', 'no', 'nop', 'nope'}:\n",
    "            return False\n",
    "        retries = retries - 1\n",
    "        if retries < 0:\n",
    "            raise ValueError('invalid user response')\n",
    "        print(reminder)\n",
    "        \n",
    "ask_ok(prompt='Do you really want to quit?', retries=2)        "
   ],
   "id": "f08c4c3628b0bc2b",
   "outputs": [
    {
     "data": {
      "text/plain": [
       "True"
      ]
     },
     "execution_count": 43,
     "metadata": {},
     "output_type": "execute_result"
    }
   ],
   "execution_count": 43
  },
  {
   "metadata": {
    "ExecuteTime": {
     "end_time": "2025-01-06T05:05:50.470363Z",
     "start_time": "2025-01-06T05:05:50.458106Z"
    }
   },
   "cell_type": "code",
   "source": [
    "# 默认值在定义范围内的函数定义点处进行评估\n",
    "i = 5\n",
    "\n",
    "def f(arg=i):\n",
    "    print(arg)\n",
    "\n",
    "i = 6\n",
    "f()\n"
   ],
   "id": "4fbb9a92c78e7152",
   "outputs": [
    {
     "name": "stdout",
     "output_type": "stream",
     "text": [
      "5\n"
     ]
    }
   ],
   "execution_count": 44
  },
  {
   "metadata": {
    "ExecuteTime": {
     "end_time": "2025-01-06T05:09:04.464377Z",
     "start_time": "2025-01-06T05:09:04.457200Z"
    }
   },
   "cell_type": "code",
   "source": [
    "# 默认值仅被评估一次。当默认值是可变对象（例如列表、字典或大多数类的实例）时，情况会有所不同。例如，以下函数会在后续调用中累积传递给它的参数\n",
    "def f(a, L=[]):\n",
    "    L.append(a)\n",
    "    return L\n",
    "\n",
    "print(f(1))\n",
    "print(f(2))\n",
    "print(f(3))"
   ],
   "id": "a9593e33cfaca828",
   "outputs": [
    {
     "name": "stdout",
     "output_type": "stream",
     "text": [
      "[1]\n",
      "[1, 2]\n",
      "[1, 2, 3]\n"
     ]
    }
   ],
   "execution_count": 45
  },
  {
   "metadata": {
    "ExecuteTime": {
     "end_time": "2025-01-06T05:09:27.519946Z",
     "start_time": "2025-01-06T05:09:27.505287Z"
    }
   },
   "cell_type": "code",
   "source": [
    "# 如果您不希望在后续调用之间共享默认值，则可以像这样编写函数：\n",
    "def f(a, L=None):\n",
    "    if L is None:\n",
    "        L = []\n",
    "    L.append(a)\n",
    "    return L\n",
    "\n",
    "print(f(1))\n",
    "print(f(2))\n",
    "print(f(3))"
   ],
   "id": "52d706c401863022",
   "outputs": [
    {
     "name": "stdout",
     "output_type": "stream",
     "text": [
      "[1]\n",
      "[2]\n",
      "[3]\n"
     ]
    }
   ],
   "execution_count": 46
  },
  {
   "metadata": {
    "ExecuteTime": {
     "end_time": "2025-01-06T05:20:41.894089Z",
     "start_time": "2025-01-06T05:20:41.883203Z"
    }
   },
   "cell_type": "code",
   "source": [
    "# 关键字参数必须在位置参数之后传递\n",
    "def parrot(voltage, state='a stiff', action='voom'):\n",
    "    print(\"-- This parrot wouldn't\", action, end=' ')\n",
    "    print(\"if you put\", voltage, \"volts through it.\")\n",
    "    print(\"E's\", state, \"!\")\n",
    "    \n",
    "parrot(voltage=1000)\n",
    "parrot(voltage=1000, action='VOOOOOM')\n",
    "parrot(1000)\n",
    "parrot(action='VOOOOOM', voltage=1000)"
   ],
   "id": "7d95ebb93e5ecafc",
   "outputs": [
    {
     "name": "stdout",
     "output_type": "stream",
     "text": [
      "-- This parrot wouldn't voom if you put 1000 volts through it.\n",
      "E's a stiff !\n",
      "-- This parrot wouldn't VOOOOOM if you put 1000 volts through it.\n",
      "E's a stiff !\n",
      "-- This parrot wouldn't voom if you put 1000 volts through it.\n",
      "E's a stiff !\n",
      "-- This parrot wouldn't VOOOOOM if you put 1000 volts through it.\n",
      "E's a stiff !\n"
     ]
    }
   ],
   "execution_count": 52
  }
 ],
 "metadata": {
  "kernelspec": {
   "display_name": "Python 3",
   "language": "python",
   "name": "python3"
  },
  "language_info": {
   "codemirror_mode": {
    "name": "ipython",
    "version": 2
   },
   "file_extension": ".py",
   "mimetype": "text/x-python",
   "name": "python",
   "nbconvert_exporter": "python",
   "pygments_lexer": "ipython2",
   "version": "2.7.6"
  }
 },
 "nbformat": 4,
 "nbformat_minor": 5
}
